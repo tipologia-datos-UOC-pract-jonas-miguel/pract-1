{
 "cells": [
  {
   "cell_type": "markdown",
   "id": "2412e7cf-4dfe-4bda-9156-f3eb783d9054",
   "metadata": {
    "tags": []
   },
   "source": [
    "Tipología y ciclo de vida de los datos: PRÁCTICA I\n",
    "==================================================\n",
    "\n",
    "Componentes de la práctica:\n",
    "\n",
    " **Jonás Medina Brito** (jmedinabrit@uoc.edu)   \n",
    " **Miguel Rafael Esteban Martín** (mestebanmart@uoc.edu)\n",
    " \n",
    " \n",
    "## Indice de contenidos\n",
    "\n",
    " - [Contexto](#Contexto)\n",
    " - [Título](#Título)\n",
    " - [Descripción del dataset](#Descripción-del-dataset)\n",
    " - [Representación gráfica](#Representación-gráfica)\n",
    " - [Contenido](#Contenido)\n",
    " - [Agradecimientos](#Agradecimientos)\n",
    " - [Inspiración](#Inspiración)\n",
    " - [Licencia](#Licencia)\n",
    " - [Código](#Código)\n",
    " - [Dataset](#Dataset)\n"
   ]
  },
  {
   "cell_type": "markdown",
   "id": "4c266cea-71cb-4bec-a221-b1f4a4d28b65",
   "metadata": {},
   "source": [
    "## Contexto"
   ]
  },
  {
   "cell_type": "markdown",
   "id": "4590dc71-804b-454f-a2fd-5b731ccbe363",
   "metadata": {
    "jp-MarkdownHeadingCollapsed": true,
    "tags": []
   },
   "source": [
    "### Recogida de datos\n",
    "\n",
    "Aunque Eurostat tiene una API pública (**1**) que permite obtener los diferentes dataset, en esta práctica hemos decido hacer web scraping  de los datos que se ofrecen en su \"_Data browser_\" accesible desde un navegador.\n",
    "\n",
    "> (1)  Eurostat web services: https://ec.europa.eu/eurostat/en/web/main/data/web-services (Ǘltima vista abril del 2020)\n",
    "\n",
    "Para explicar el estudio que se ha hecho para la obtención de datos se tomará como ejemplo el dataset de \"_Componentes del precio de la electricidad para consumidores domésticos_\" ([Electricity prices components for household consumers - annual data (from 2007 onwards](https://ec.europa.eu/eurostat/databrowser/view/NRG_PC_204_C__custom_2388428/default/table?lang=en))\n",
    "\n",
    "\n",
    "![](doc-pract-1-files/dataBrowserInterface.png)\n",
    "\n",
    "**_Captura de pantalla de la interfaz “Data Browser” del informe   \n",
    "de los componentes del precio de la electricidad para consumidores  \n",
    "domésticos_**\n",
    "\n",
    "\n",
    "El sitio web de Eurostat utiliza HTML dinámico para generación de la vista, esto quiere decir qie el navegador procesa la información y la presenta generando código HTML, y no sólo se limita a representar el código HTML que responde el servidor. Este componente de generación de código por parte del navegador hace complicado el web scraping tradicional.\n",
    "\n",
    "Utilizando ingeniería inversa y las herramientas de desarrollo del navegador (Firefox), se puede ver cual es la llamada que devuelve los datos que se representan en la tabla dinámica. Un ejemplo es la petición  que es utilizada en la construcción de la tabla con los datos que se muestra en la página web.\n",
    "\n",
    "\n",
    "\n"
   ]
  },
  {
   "cell_type": "markdown",
   "id": "cde072b5-2027-48f0-82d0-743d0bb5359d",
   "metadata": {},
   "source": [
    "## Título"
   ]
  },
  {
   "cell_type": "markdown",
   "id": "46c87195-4773-48cf-9abd-5dc8ae8c4cca",
   "metadata": {
    "tags": []
   },
   "source": [
    "## Descripción del dataset"
   ]
  },
  {
   "cell_type": "markdown",
   "id": "f5479a59-79d5-46f2-9923-583df35117b7",
   "metadata": {},
   "source": [
    "## Representación gráfica"
   ]
  },
  {
   "cell_type": "markdown",
   "id": "c14a0224-ea20-47c3-a603-b4deba1fd820",
   "metadata": {},
   "source": [
    "## Contenido"
   ]
  },
  {
   "cell_type": "markdown",
   "id": "3fdb3776-cbf9-4ace-b8af-e36395cebbd0",
   "metadata": {},
   "source": [
    "## Agradecimientos"
   ]
  },
  {
   "cell_type": "markdown",
   "id": "059cdd5b-64a0-44ab-a64f-5f0a2ffff3e8",
   "metadata": {},
   "source": [
    "## Inspiración"
   ]
  },
  {
   "cell_type": "markdown",
   "id": "179ce1c1-c03c-4e72-94a7-463f66a948dd",
   "metadata": {},
   "source": [
    "## Licencia"
   ]
  },
  {
   "cell_type": "markdown",
   "id": "cc98c1cc-cbb2-4a7e-8b70-ffb2915701dc",
   "metadata": {},
   "source": [
    "## Código"
   ]
  },
  {
   "cell_type": "markdown",
   "id": "a0905111-2d2f-47ee-a16c-979f4a61692f",
   "metadata": {},
   "source": [
    "## Dataset"
   ]
  }
 ],
 "metadata": {
  "kernelspec": {
   "display_name": "Python 3 (ipykernel)",
   "language": "python",
   "name": "python3"
  },
  "language_info": {
   "codemirror_mode": {
    "name": "ipython",
    "version": 3
   },
   "file_extension": ".py",
   "mimetype": "text/x-python",
   "name": "python",
   "nbconvert_exporter": "python",
   "pygments_lexer": "ipython3",
   "version": "3.9.10"
  }
 },
 "nbformat": 4,
 "nbformat_minor": 5
}
