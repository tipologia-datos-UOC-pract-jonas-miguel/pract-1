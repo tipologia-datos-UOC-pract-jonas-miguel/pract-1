{
 "cells": [
  {
   "cell_type": "markdown",
   "id": "aa302e3a-a1d3-4363-b430-e5ad96c3014b",
   "metadata": {},
   "source": [
    "# Práctica I"
   ]
  },
  {
   "cell_type": "markdown",
   "id": "86d1008e-ce8c-46ea-8351-2e8669dd0e7c",
   "metadata": {},
   "source": [
    "## Extracción de los datos"
   ]
  },
  {
   "cell_type": "markdown",
   "id": "dde5d0aa-fc8a-474a-be3b-d43f880afe4a",
   "metadata": {},
   "source": [
    "### Funciones de utilidad"
   ]
  },
  {
   "cell_type": "markdown",
   "id": "603b7e63-464a-4f3e-bd88-ea6207780d9d",
   "metadata": {},
   "source": [
    "Se crea una función que permite extrare el data frame a partir del código de dataframe"
   ]
  },
  {
   "cell_type": "code",
   "execution_count": 1,
   "id": "66dd22e0-2315-4f65-b697-7fefb8eded7e",
   "metadata": {},
   "outputs": [],
   "source": [
    "import pandas as pd\n",
    "\n",
    "def get_raw_data_frame( key ): \n",
    "    \n",
    "    url_template = 'https://ec.europa.eu/eurostat/api/dissemination/sdmx/2.1/data/%s$DEFAULTVIEW/?format=TSV&compressed=false' \n",
    "    \n",
    "    url = url_template % key\n",
    "\n",
    "    return pd.read_table( url )\n"
   ]
  },
  {
   "cell_type": "markdown",
   "id": "ffd67890-d9e5-428e-a7bf-d7f8a50a5ef4",
   "metadata": {},
   "source": [
    "Extraer el país a partir de la primera columna del dataframe"
   ]
  },
  {
   "cell_type": "code",
   "execution_count": 2,
   "id": "95f70acc-dccb-4e31-8dbb-e6211d5c8e86",
   "metadata": {},
   "outputs": [],
   "source": [
    "def extract_country( data ):\n",
    "    \n",
    "    new_data = data.rename( columns={data.iloc[:, 0].name :'country'} )\n",
    "\n",
    "    new_data['country'] = new_data['country'].str.replace(r'^.*,(.*)$', r'\\1', regex=True)\n",
    "    \n",
    "    return new_data\n"
   ]
  },
  {
   "cell_type": "markdown",
   "id": "362b6fb6-db89-44db-88f0-707cb9b1b8e7",
   "metadata": {},
   "source": [
    "Eliminar espacios en las columnas"
   ]
  },
  {
   "cell_type": "code",
   "execution_count": 3,
   "id": "778902a7-ae92-4cb7-9d41-922bfb31406f",
   "metadata": {},
   "outputs": [],
   "source": [
    "def trim_column_names( data ):\n",
    "    \n",
    "    for col in  data.columns :\n",
    "    \n",
    "        data = data.rename( columns={col :col.strip()} )\n",
    "    \n",
    "    return data\n",
    "    "
   ]
  },
  {
   "cell_type": "markdown",
   "id": "23961e8d-1bf6-439d-937b-b698c33282cc",
   "metadata": {},
   "source": [
    "Limpia y transforma todas las columnas que son númericas"
   ]
  },
  {
   "cell_type": "code",
   "execution_count": 4,
   "id": "941736c6-0676-465a-808b-b62368a19aab",
   "metadata": {},
   "outputs": [],
   "source": [
    "def clean_numeric_columns( data ):\n",
    "   \n",
    "   data.iloc[:,1:] = data.iloc[:,1:].replace(\n",
    "        r'^.*[:].*$', None, regex=True # Not available and confidencial flag\n",
    "   ).replace(\n",
    "        r'e', '', regex=True # Remove flag estimated\n",
    "   ).replace(\n",
    "        r'd', '', regex=True # Remove flag definition differs\n",
    "   ).replace( \n",
    "        r'^(.+) +$', r'\\1', regex = True # rTrim\n",
    "   ).replace( \n",
    "        r'^ +(.+)$', r'\\1', regex = True # lTrim\n",
    "   ).astype('float64')\n",
    "    \n",
    "   return data\n",
    "    \n",
    "    "
   ]
  },
  {
   "cell_type": "markdown",
   "id": "3a1cb69c-91a6-4cd9-a999-d1bd12f3c84e",
   "metadata": {},
   "source": [
    "Función que realiza todo el proceso de extración y limpieza de los datos"
   ]
  },
  {
   "cell_type": "code",
   "execution_count": 5,
   "id": "3b6df54b-7dc2-49ad-a393-42ebdb73ea51",
   "metadata": {},
   "outputs": [],
   "source": [
    "def dataframe_by_key( key ):\n",
    "    return clean_numeric_columns(\n",
    "        trim_column_names(\n",
    "            extract_country( \n",
    "                get_raw_data_frame( key )  \n",
    "            )\n",
    "        )\n",
    "    )"
   ]
  },
  {
   "cell_type": "markdown",
   "id": "f3b8df46-a6e4-4b22-9b6f-a7f4da8a6b1c",
   "metadata": {
    "tags": []
   },
   "source": [
    "### _DATASET I_: Precio de Gas doméstico en € por kw/h\n",
    "\n",
    "Obtenido del origien de datos [Gas prices components for household consumers - annual data](https://ec.europa.eu/eurostat/databrowser/view/nrg_pc_202_c/default/table?lang=en)\n",
    "\n",
    "Clave de identificación de los datos: **`NRG_PC_202_C`**"
   ]
  },
  {
   "cell_type": "code",
   "execution_count": 6,
   "id": "c1cd0925-65ca-41cf-a434-d4d02c5fc0ef",
   "metadata": {
    "tags": []
   },
   "outputs": [],
   "source": [
    "data_gas_prices_household_consumers = dataframe_by_key( 'NRG_PC_202_C' ) "
   ]
  },
  {
   "cell_type": "markdown",
   "id": "5a350de2-4df0-4e1b-8447-9227bc66c5ce",
   "metadata": {},
   "source": [
    "Columnas del dataset:"
   ]
  },
  {
   "cell_type": "code",
   "execution_count": 7,
   "id": "ad8f65ca-56fa-43c3-9f4c-2929e2088f98",
   "metadata": {},
   "outputs": [
    {
     "data": {
      "text/plain": [
       "country     object\n",
       "2017       float64\n",
       "2018       float64\n",
       "2019       float64\n",
       "2020       float64\n",
       "2021       float64\n",
       "dtype: object"
      ]
     },
     "metadata": {},
     "output_type": "display_data"
    }
   ],
   "source": [
    "display(data_gas_prices_household_consumers.dtypes)"
   ]
  },
  {
   "cell_type": "markdown",
   "id": "47339e34-646d-4454-8b89-cf15125dacde",
   "metadata": {},
   "source": [
    "Ejemplo de valores:"
   ]
  },
  {
   "cell_type": "code",
   "execution_count": 8,
   "id": "220ae3c9-c4bc-41b2-a279-da9784849327",
   "metadata": {},
   "outputs": [
    {
     "data": {
      "text/html": [
       "<div>\n",
       "<style scoped>\n",
       "    .dataframe tbody tr th:only-of-type {\n",
       "        vertical-align: middle;\n",
       "    }\n",
       "\n",
       "    .dataframe tbody tr th {\n",
       "        vertical-align: top;\n",
       "    }\n",
       "\n",
       "    .dataframe thead th {\n",
       "        text-align: right;\n",
       "    }\n",
       "</style>\n",
       "<table border=\"1\" class=\"dataframe\">\n",
       "  <thead>\n",
       "    <tr style=\"text-align: right;\">\n",
       "      <th></th>\n",
       "      <th>country</th>\n",
       "      <th>2017</th>\n",
       "      <th>2018</th>\n",
       "      <th>2019</th>\n",
       "      <th>2020</th>\n",
       "      <th>2021</th>\n",
       "    </tr>\n",
       "  </thead>\n",
       "  <tbody>\n",
       "    <tr>\n",
       "      <th>0</th>\n",
       "      <td>AT</td>\n",
       "      <td>0.0219</td>\n",
       "      <td>0.0200</td>\n",
       "      <td>0.0179</td>\n",
       "      <td>0.0171</td>\n",
       "      <td>NaN</td>\n",
       "    </tr>\n",
       "    <tr>\n",
       "      <th>1</th>\n",
       "      <td>BA</td>\n",
       "      <td>0.0039</td>\n",
       "      <td>0.0039</td>\n",
       "      <td>0.0036</td>\n",
       "      <td>0.0037</td>\n",
       "      <td>NaN</td>\n",
       "    </tr>\n",
       "    <tr>\n",
       "      <th>2</th>\n",
       "      <td>BE</td>\n",
       "      <td>0.0163</td>\n",
       "      <td>0.0176</td>\n",
       "      <td>0.0165</td>\n",
       "      <td>0.0144</td>\n",
       "      <td>NaN</td>\n",
       "    </tr>\n",
       "    <tr>\n",
       "      <th>3</th>\n",
       "      <td>BG</td>\n",
       "      <td>0.0126</td>\n",
       "      <td>0.0133</td>\n",
       "      <td>0.0133</td>\n",
       "      <td>0.0135</td>\n",
       "      <td>NaN</td>\n",
       "    </tr>\n",
       "    <tr>\n",
       "      <th>4</th>\n",
       "      <td>CZ</td>\n",
       "      <td>0.0135</td>\n",
       "      <td>0.0134</td>\n",
       "      <td>0.0060</td>\n",
       "      <td>0.0058</td>\n",
       "      <td>0.0059</td>\n",
       "    </tr>\n",
       "    <tr>\n",
       "      <th>...</th>\n",
       "      <td>...</td>\n",
       "      <td>...</td>\n",
       "      <td>...</td>\n",
       "      <td>...</td>\n",
       "      <td>...</td>\n",
       "      <td>...</td>\n",
       "    </tr>\n",
       "    <tr>\n",
       "      <th>275</th>\n",
       "      <td>SI</td>\n",
       "      <td>0.0097</td>\n",
       "      <td>0.0100</td>\n",
       "      <td>0.0103</td>\n",
       "      <td>0.0102</td>\n",
       "      <td>0.0101</td>\n",
       "    </tr>\n",
       "    <tr>\n",
       "      <th>276</th>\n",
       "      <td>SK</td>\n",
       "      <td>0.0074</td>\n",
       "      <td>0.0076</td>\n",
       "      <td>0.0080</td>\n",
       "      <td>0.0081</td>\n",
       "      <td>0.0072</td>\n",
       "    </tr>\n",
       "    <tr>\n",
       "      <th>277</th>\n",
       "      <td>TR</td>\n",
       "      <td>0.0037</td>\n",
       "      <td>0.0028</td>\n",
       "      <td>0.0033</td>\n",
       "      <td>0.0029</td>\n",
       "      <td>NaN</td>\n",
       "    </tr>\n",
       "    <tr>\n",
       "      <th>278</th>\n",
       "      <td>UA</td>\n",
       "      <td>NaN</td>\n",
       "      <td>0.0000</td>\n",
       "      <td>0.0000</td>\n",
       "      <td>0.0042</td>\n",
       "      <td>NaN</td>\n",
       "    </tr>\n",
       "    <tr>\n",
       "      <th>279</th>\n",
       "      <td>UK</td>\n",
       "      <td>0.0023</td>\n",
       "      <td>0.0023</td>\n",
       "      <td>0.0024</td>\n",
       "      <td>NaN</td>\n",
       "      <td>NaN</td>\n",
       "    </tr>\n",
       "  </tbody>\n",
       "</table>\n",
       "<p>280 rows × 6 columns</p>\n",
       "</div>"
      ],
      "text/plain": [
       "    country    2017    2018    2019    2020    2021\n",
       "0        AT  0.0219  0.0200  0.0179  0.0171     NaN\n",
       "1        BA  0.0039  0.0039  0.0036  0.0037     NaN\n",
       "2        BE  0.0163  0.0176  0.0165  0.0144     NaN\n",
       "3        BG  0.0126  0.0133  0.0133  0.0135     NaN\n",
       "4        CZ  0.0135  0.0134  0.0060  0.0058  0.0059\n",
       "..      ...     ...     ...     ...     ...     ...\n",
       "275      SI  0.0097  0.0100  0.0103  0.0102  0.0101\n",
       "276      SK  0.0074  0.0076  0.0080  0.0081  0.0072\n",
       "277      TR  0.0037  0.0028  0.0033  0.0029     NaN\n",
       "278      UA     NaN  0.0000  0.0000  0.0042     NaN\n",
       "279      UK  0.0023  0.0023  0.0024     NaN     NaN\n",
       "\n",
       "[280 rows x 6 columns]"
      ]
     },
     "execution_count": 8,
     "metadata": {},
     "output_type": "execute_result"
    }
   ],
   "source": [
    "data_gas_prices_household_consumers"
   ]
  },
  {
   "cell_type": "markdown",
   "id": "1d3f844c-14b1-415a-9244-223d4380ebfd",
   "metadata": {
    "tags": []
   },
   "source": [
    "### _DATASET II_: Precio de Gas no doméstico en € por kw/h\n",
    "\n",
    "Obtenido del origien de datos [Gas prices components for non-household consumers - annual data](https://ec.europa.eu/eurostat/databrowser/view/nrg_pc_203_c/default/table?lang=en)\n",
    "\n",
    "Clave de identificación de los datos: **`NRG_PC_203_C`**"
   ]
  },
  {
   "cell_type": "code",
   "execution_count": 9,
   "id": "f26299de-a5c8-423b-a1a4-50051024b856",
   "metadata": {
    "tags": []
   },
   "outputs": [],
   "source": [
    "data_gas_prices_nonhousehold_consumers = dataframe_by_key( 'NRG_PC_203_C' ) "
   ]
  },
  {
   "cell_type": "markdown",
   "id": "2e54d790-40a9-4dcc-a27f-79e7a4d9fd86",
   "metadata": {},
   "source": [
    "Columnas del dataset:"
   ]
  },
  {
   "cell_type": "code",
   "execution_count": 10,
   "id": "30899333-ecca-46fb-aca4-e80635f19792",
   "metadata": {},
   "outputs": [
    {
     "data": {
      "text/plain": [
       "country    object\n",
       "2017       object\n",
       "2018       object\n",
       "2019       object\n",
       "2020       object\n",
       "2021       object\n",
       "dtype: object"
      ]
     },
     "metadata": {},
     "output_type": "display_data"
    }
   ],
   "source": [
    "display(data_gas_prices_nonhousehold_consumers.dtypes)"
   ]
  },
  {
   "cell_type": "markdown",
   "id": "aaf54e7e-37a1-4605-9822-36edcd0619c3",
   "metadata": {},
   "source": [
    "Ejemplo de valores:"
   ]
  },
  {
   "cell_type": "code",
   "execution_count": 11,
   "id": "8866b95c-3630-4882-bbb0-670c78068f11",
   "metadata": {},
   "outputs": [
    {
     "data": {
      "text/html": [
       "<div>\n",
       "<style scoped>\n",
       "    .dataframe tbody tr th:only-of-type {\n",
       "        vertical-align: middle;\n",
       "    }\n",
       "\n",
       "    .dataframe tbody tr th {\n",
       "        vertical-align: top;\n",
       "    }\n",
       "\n",
       "    .dataframe thead th {\n",
       "        text-align: right;\n",
       "    }\n",
       "</style>\n",
       "<table border=\"1\" class=\"dataframe\">\n",
       "  <thead>\n",
       "    <tr style=\"text-align: right;\">\n",
       "      <th></th>\n",
       "      <th>country</th>\n",
       "      <th>2017</th>\n",
       "      <th>2018</th>\n",
       "      <th>2019</th>\n",
       "      <th>2020</th>\n",
       "      <th>2021</th>\n",
       "    </tr>\n",
       "  </thead>\n",
       "  <tbody>\n",
       "    <tr>\n",
       "      <th>0</th>\n",
       "      <td>AT</td>\n",
       "      <td>3.1561</td>\n",
       "      <td>2.8492</td>\n",
       "      <td>2.7004</td>\n",
       "      <td>2.6527</td>\n",
       "      <td>NaN</td>\n",
       "    </tr>\n",
       "    <tr>\n",
       "      <th>1</th>\n",
       "      <td>BA</td>\n",
       "      <td>3.3336</td>\n",
       "      <td>3.2463</td>\n",
       "      <td>3.1931</td>\n",
       "      <td>3.2187</td>\n",
       "      <td>NaN</td>\n",
       "    </tr>\n",
       "    <tr>\n",
       "      <th>2</th>\n",
       "      <td>BE</td>\n",
       "      <td>2.3286</td>\n",
       "      <td>2.1592</td>\n",
       "      <td>1.8494</td>\n",
       "      <td>1.6252</td>\n",
       "      <td>NaN</td>\n",
       "    </tr>\n",
       "    <tr>\n",
       "      <th>3</th>\n",
       "      <td>BG</td>\n",
       "      <td>2.658</td>\n",
       "      <td>2.94</td>\n",
       "      <td>2.9073</td>\n",
       "      <td>3.0556</td>\n",
       "      <td>NaN</td>\n",
       "    </tr>\n",
       "    <tr>\n",
       "      <th>4</th>\n",
       "      <td>CZ</td>\n",
       "      <td>1.821</td>\n",
       "      <td>2.0446</td>\n",
       "      <td>1.8549</td>\n",
       "      <td>1.752</td>\n",
       "      <td>NaN</td>\n",
       "    </tr>\n",
       "    <tr>\n",
       "      <th>...</th>\n",
       "      <td>...</td>\n",
       "      <td>...</td>\n",
       "      <td>...</td>\n",
       "      <td>...</td>\n",
       "      <td>...</td>\n",
       "      <td>...</td>\n",
       "    </tr>\n",
       "    <tr>\n",
       "      <th>3771</th>\n",
       "      <td>SI</td>\n",
       "      <td>NaN</td>\n",
       "      <td>NaN</td>\n",
       "      <td>0.0068</td>\n",
       "      <td>0.0061</td>\n",
       "      <td>0.0077</td>\n",
       "    </tr>\n",
       "    <tr>\n",
       "      <th>3772</th>\n",
       "      <td>SK</td>\n",
       "      <td>NaN</td>\n",
       "      <td>NaN</td>\n",
       "      <td>0.0062</td>\n",
       "      <td>0.0059</td>\n",
       "      <td>0.0068</td>\n",
       "    </tr>\n",
       "    <tr>\n",
       "      <th>3773</th>\n",
       "      <td>TR</td>\n",
       "      <td>NaN</td>\n",
       "      <td>NaN</td>\n",
       "      <td>0.004</td>\n",
       "      <td>0.0029</td>\n",
       "      <td>NaN</td>\n",
       "    </tr>\n",
       "    <tr>\n",
       "      <th>3774</th>\n",
       "      <td>UA</td>\n",
       "      <td>NaN</td>\n",
       "      <td>NaN</td>\n",
       "      <td>0.0</td>\n",
       "      <td>0.003</td>\n",
       "      <td>NaN</td>\n",
       "    </tr>\n",
       "    <tr>\n",
       "      <th>3775</th>\n",
       "      <td>UK</td>\n",
       "      <td>NaN</td>\n",
       "      <td>NaN</td>\n",
       "      <td>0.0049</td>\n",
       "      <td>NaN</td>\n",
       "      <td>NaN</td>\n",
       "    </tr>\n",
       "  </tbody>\n",
       "</table>\n",
       "<p>3776 rows × 6 columns</p>\n",
       "</div>"
      ],
      "text/plain": [
       "     country    2017    2018    2019    2020    2021\n",
       "0         AT  3.1561  2.8492  2.7004  2.6527     NaN\n",
       "1         BA  3.3336  3.2463  3.1931  3.2187     NaN\n",
       "2         BE  2.3286  2.1592  1.8494  1.6252     NaN\n",
       "3         BG   2.658    2.94  2.9073  3.0556     NaN\n",
       "4         CZ   1.821  2.0446  1.8549   1.752     NaN\n",
       "...      ...     ...     ...     ...     ...     ...\n",
       "3771      SI     NaN     NaN  0.0068  0.0061  0.0077\n",
       "3772      SK     NaN     NaN  0.0062  0.0059  0.0068\n",
       "3773      TR     NaN     NaN   0.004  0.0029     NaN\n",
       "3774      UA     NaN     NaN     0.0   0.003     NaN\n",
       "3775      UK     NaN     NaN  0.0049     NaN     NaN\n",
       "\n",
       "[3776 rows x 6 columns]"
      ]
     },
     "execution_count": 11,
     "metadata": {},
     "output_type": "execute_result"
    }
   ],
   "source": [
    "data_gas_prices_nonhousehold_consumers"
   ]
  },
  {
   "cell_type": "code",
   "execution_count": 12,
   "id": "c9aadf9d-c5b4-40a7-aff2-8030838c0f3c",
   "metadata": {},
   "outputs": [],
   "source": [
    "# PRUEBAS BORRAR\n",
    "    \n",
    "# data_gas_prices_consumers.columns\n",
    "\n",
    "# PRUEBAS BORRAR \n",
    "                          "
   ]
  }
 ],
 "metadata": {
  "kernelspec": {
   "display_name": "Python 3 (ipykernel)",
   "language": "python",
   "name": "python3"
  },
  "language_info": {
   "codemirror_mode": {
    "name": "ipython",
    "version": 3
   },
   "file_extension": ".py",
   "mimetype": "text/x-python",
   "name": "python",
   "nbconvert_exporter": "python",
   "pygments_lexer": "ipython3",
   "version": "3.9.10"
  }
 },
 "nbformat": 4,
 "nbformat_minor": 5
}
