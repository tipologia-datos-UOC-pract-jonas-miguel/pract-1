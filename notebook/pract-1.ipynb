{
 "cells": [
  {
   "cell_type": "markdown",
   "id": "aa302e3a-a1d3-4363-b430-e5ad96c3014b",
   "metadata": {},
   "source": [
    "# Práctica I"
   ]
  },
  {
   "cell_type": "markdown",
   "id": "86d1008e-ce8c-46ea-8351-2e8669dd0e7c",
   "metadata": {},
   "source": [
    "## Extracción de los datos"
   ]
  },
  {
   "cell_type": "markdown",
   "id": "dde5d0aa-fc8a-474a-be3b-d43f880afe4a",
   "metadata": {},
   "source": [
    "### Funciones de utilidad"
   ]
  },
  {
   "cell_type": "markdown",
   "id": "88cea510-ac50-4a57-98e4-fdce03b2a053",
   "metadata": {},
   "source": [
    "Importación de las librerías necesarias"
   ]
  },
  {
   "cell_type": "code",
   "execution_count": 1,
   "id": "97025d38-7a40-41c9-8c2e-d25f6db1de07",
   "metadata": {},
   "outputs": [],
   "source": [
    "import seaborn as sns\n",
    "import pandas as pd\n",
    "import numpy as np\n",
    "from scipy import stats\n",
    "import matplotlib.pyplot as plt\n",
    "import requests, json\n",
    "from IPython.display import IFrame"
   ]
  },
  {
   "cell_type": "markdown",
   "id": "603b7e63-464a-4f3e-bd88-ea6207780d9d",
   "metadata": {},
   "source": [
    "Se crea la función **`get_raw_data_frame`** que permite extrare el dataframe de PANDAs a partir del código del juego de datos. El segundo de los argumentos es para poder soportar que la respuesta sea devuleta comprimida."
   ]
  },
  {
   "cell_type": "code",
   "execution_count": 2,
   "id": "66dd22e0-2315-4f65-b697-7fefb8eded7e",
   "metadata": {},
   "outputs": [],
   "source": [
    "def get_raw_data_frame( key, gziped ): \n",
    "    \n",
    "    # url_template = 'https://ec.europa.eu/eurostat/api/dissemination/sdmx/2.1/data/%s$DEFAULTVIEW/?format=TSV&compressed=false' \n",
    "    \n",
    "    url_template =  'https://ec.europa.eu/eurostat/databrowser-backend/api/extraction/1.0/LIVE/false/tsv/%s?i'\n",
    "\n",
    "    url = url_template % key\n",
    "\n",
    "    return pd.read_table( url, compression = 'gzip' ) if gziped else  pd.read_table(  url )\n"
   ]
  },
  {
   "cell_type": "markdown",
   "id": "ffd67890-d9e5-428e-a7bf-d7f8a50a5ef4",
   "metadata": {},
   "source": [
    "Función de flujo de datos: **`extract_country`**\n",
    "\n",
    "Extraer el país a partir de la primera columna del dataframe"
   ]
  },
  {
   "cell_type": "code",
   "execution_count": 3,
   "id": "95f70acc-dccb-4e31-8dbb-e6211d5c8e86",
   "metadata": {},
   "outputs": [],
   "source": [
    "def extract_country( data ):\n",
    "    \n",
    "    new_data = data.rename( columns={data.iloc[:, 0].name :'country'} )\n",
    "\n",
    "    new_data['country'] = new_data['country'].str.replace(r'^.*,(.*)$', r'\\1', regex=True)\n",
    "    \n",
    "    return new_data\n"
   ]
  },
  {
   "cell_type": "markdown",
   "id": "362b6fb6-db89-44db-88f0-707cb9b1b8e7",
   "metadata": {},
   "source": [
    "Función de flujo de datos: **`trim_column_names`**\n",
    "\n",
    "Eliminar espacios en los nombres de las columnas"
   ]
  },
  {
   "cell_type": "code",
   "execution_count": 4,
   "id": "778902a7-ae92-4cb7-9d41-922bfb31406f",
   "metadata": {},
   "outputs": [],
   "source": [
    "def trim_column_names( data ):\n",
    "    \n",
    "    for col in data.columns:\n",
    "    \n",
    "        data = data.rename( columns={col :col.strip()} )\n",
    "    \n",
    "    return data\n",
    "    "
   ]
  },
  {
   "cell_type": "markdown",
   "id": "23961e8d-1bf6-439d-937b-b698c33282cc",
   "metadata": {},
   "source": [
    "Función de flujo de datos: **`clean_numeric_columns`**\n",
    "\n",
    "Limpia, trata y transforma todas las columnas que son númericas\n",
    "\n",
    "- Se tratan como vacíos aquellos valores que contienen `:`: No disponible o confidencial\n",
    "- Se eliminan los indicadores de valor estimado o que su definición difieren: Estos valores se tratarán como reales\n",
    "- Se eliminan los espacios sobrantes"
   ]
  },
  {
   "cell_type": "code",
   "execution_count": 5,
   "id": "941736c6-0676-465a-808b-b62368a19aab",
   "metadata": {},
   "outputs": [],
   "source": [
    "def clean_numeric_columns( data ):\n",
    "   \n",
    "   data.iloc[:,1:] = data.iloc[:,1:].replace(\n",
    "        r'^.*[:].*$', None, regex=True # Not available and confidencial flag\n",
    "   ).replace(\n",
    "        r'e', '', regex=True # Remove flag estimated\n",
    "   ).replace(\n",
    "        r'd', '', regex=True # Remove flag definition differs\n",
    "   ).replace( \n",
    "        r'^(.+) +$', r'\\1', regex = True # rTrim\n",
    "   ).replace( \n",
    "        r'^ +(.+)$', r'\\1', regex = True # lTrim\n",
    "   )\n",
    "   \n",
    "   for col in  data.iloc[:,1:].columns :    \n",
    "        data[col] = pd.to_numeric( data[col] )\n",
    "    \n",
    "   return data\n",
    "    \n",
    "    "
   ]
  },
  {
   "cell_type": "markdown",
   "id": "f0e76c28-d0c7-4d8b-a65f-2a7587036549",
   "metadata": {},
   "source": [
    "Función de flujo de datos: **`filter_data`**\n",
    "\n",
    "Función que filtra los registros que cumplann la condión del filtro en la primera de las columnas"
   ]
  },
  {
   "cell_type": "code",
   "execution_count": 6,
   "id": "8d4cedce-489d-42c1-adc8-be421b87bb1c",
   "metadata": {},
   "outputs": [],
   "source": [
    "def filter_data( filter ): \n",
    "    def _filter_data( data ):\n",
    "        new_data = data[data.iloc[:, 0].str.contains( filter )]    \n",
    "        new_data.reset_index(inplace = True, drop = True)\n",
    "        return new_data\n",
    "    return _filter_data\n",
    "    "
   ]
  },
  {
   "cell_type": "markdown",
   "id": "7f4ea2a6-5cf1-44db-86a4-d79af55c3d4a",
   "metadata": {},
   "source": [
    "Función que obtiene el maestro de países (**`get_country_names`**), que permite obtener el nombre del país a partir de su identificador"
   ]
  },
  {
   "cell_type": "code",
   "execution_count": 7,
   "id": "17328149-a8e5-405a-8431-594e32158829",
   "metadata": {},
   "outputs": [],
   "source": [
    "def get_country_names():\n",
    "    url = requests.get(\"https://ec.europa.eu/eurostat/databrowser-backend/api/codelist/LIVE/GEO/getCodeListJson/9.0/ESTAT/en/false\")\n",
    "    text = url.text\n",
    "    data = json.loads(text)\n",
    "    return data['category']['label']\n"
   ]
  },
  {
   "cell_type": "markdown",
   "id": "6363ff7a-ee49-4e1d-ac0a-2b500706e965",
   "metadata": {},
   "source": [
    "Función de flujo de datos: **`add_column_country_name_flow`**\n",
    "\n",
    "Función que añade la columna con el nombre de los países"
   ]
  },
  {
   "cell_type": "code",
   "execution_count": 8,
   "id": "74976530-27d0-4b26-9991-1bf7f51b9a59",
   "metadata": {},
   "outputs": [],
   "source": [
    "def add_column_country_name_flow():    \n",
    "    \n",
    "    def _add_column_country_name(data) : \n",
    "        country_names = get_country_names()    \n",
    "        data.insert(\n",
    "            1, \n",
    "            'country_name', \n",
    "            data.country.map(lambda v: country_names[v] ), \n",
    "            True\n",
    "        )\n",
    "        return data\n",
    "    \n",
    "    return _add_column_country_name "
   ]
  },
  {
   "cell_type": "markdown",
   "id": "9fd56f0c-108e-495b-a7f6-b3a2da3edd46",
   "metadata": {},
   "source": [
    "Función **`export_dataframe`** que permite exportar el dataframe a fichero CSV"
   ]
  },
  {
   "cell_type": "code",
   "execution_count": 9,
   "id": "8a20600f-56ee-47fa-a370-d0e4ba47088b",
   "metadata": {},
   "outputs": [],
   "source": [
    "def export_dataframe( df, file_name, directory ):\n",
    "    #file = 'C:\\Python_Projects\\TipologiaYCicloDeVidaDelDato\\Data\\%s/%s.csv' % (directory, file_name )\n",
    "    file = '/home/jovyan/work/%s/%s.csv' % (directory, file_name )\n",
    "    df.to_csv(file )\n",
    "    \n",
    "    "
   ]
  },
  {
   "cell_type": "markdown",
   "id": "cb969e2c-74a4-4a76-bc6b-548999a344bb",
   "metadata": {},
   "source": [
    "#### Flujo de procesamiento de datos de los dataset auxiliares"
   ]
  },
  {
   "cell_type": "markdown",
   "id": "3a1cb69c-91a6-4cd9-a999-d1bd12f3c84e",
   "metadata": {},
   "source": [
    "Función que realiza todo el proceso de extración y limpieza de los datos.\n",
    "\n",
    "La función **`flow`** define, por composición de funciones, el flujo procesamiento que se va a realizar después de la carga de cada subdataframe después de su obtención a partir de la petición HTTP:\n",
    "\n",
    "1) Filtrará los datos por el filtro\n",
    "2) Obtendrá la columna de los identificadores de los paises a partir de la informaciónb de la primera columna\n",
    "3) Eliminará los espacios de los nombres de las columnas de los dataframe\n",
    "4) Procesará todas aquellas columnas relativas a los años para que contengan datos númericos\n",
    "5) Se añade la columna con la descripción del país\n",
    "\n",
    "La función **`dataframe_by_key`** combina la obtención del dataframe con su procesamiento posterior"
   ]
  },
  {
   "cell_type": "code",
   "execution_count": 10,
   "id": "3b6df54b-7dc2-49ad-a393-42ebdb73ea51",
   "metadata": {},
   "outputs": [],
   "source": [
    "class Compose:\n",
    "    _f = None\n",
    "    def __init__(self, f):\n",
    "        self._f = f\n",
    "    def andThen( self, g ):\n",
    "        return Compose( lambda s: ( g( self._f(s) ) ) )\n",
    "    def apply(self, a): \n",
    "        return self._f( a )\n",
    "    \n",
    "column_country_name = add_column_country_name_flow()    \n",
    "\n",
    "def flow( filter ) :\n",
    "    return Compose( \n",
    "        filter_data( filter )\n",
    "    ).andThen(\n",
    "        extract_country\n",
    "    ).andThen(\n",
    "        trim_column_names \n",
    "    ).andThen( \n",
    "        clean_numeric_columns \n",
    "    ).andThen( \n",
    "        column_country_name\n",
    "    )\n",
    "\n",
    "def dataframe_by_key( key, filter, gziped = False ):\n",
    "        return flow(filter).apply(  get_raw_data_frame( key, gziped ) )\n"
   ]
  },
  {
   "cell_type": "markdown",
   "id": "f3b8df46-a6e4-4b22-9b6f-a7f4da8a6b1c",
   "metadata": {
    "tags": []
   },
   "source": [
    "### _DATASET I_: Precio de Gas doméstico en € por kw/h\n",
    "\n",
    "Obtenido del origen de datos [Gas prices components for household consumers - annual data](https://ec.europa.eu/eurostat/databrowser/view/nrg_pc_202_c/default/table?lang=en)\n",
    "\n",
    "Clave de identificación de los datos: **`NRG_PC_202_C`**\n",
    "\n",
    "Se filtrarán los datos por:\n",
    "\n",
    " - Datos anuales\n",
    " - Componentes del precio de la energia: _\"Energia y suministro \"_\n",
    " - Consumición de la energía: En Giga Julios en todas las bandas\n",
    " - Moneda: Euro (€)\n",
    " - Unidad de medida: kWh"
   ]
  },
  {
   "cell_type": "code",
   "execution_count": 11,
   "id": "c1cd0925-65ca-41cf-a434-d4d02c5fc0ef",
   "metadata": {
    "tags": []
   },
   "outputs": [
    {
     "ename": "ConnectionError",
     "evalue": "('Connection aborted.', ConnectionResetError(104, 'Connection reset by peer'))",
     "output_type": "error",
     "traceback": [
      "\u001b[0;31m---------------------------------------------------------------------------\u001b[0m",
      "\u001b[0;31mConnectionResetError\u001b[0m                      Traceback (most recent call last)",
      "File \u001b[0;32m/opt/conda/lib/python3.9/site-packages/urllib3/connectionpool.py:703\u001b[0m, in \u001b[0;36mHTTPConnectionPool.urlopen\u001b[0;34m(self, method, url, body, headers, retries, redirect, assert_same_host, timeout, pool_timeout, release_conn, chunked, body_pos, **response_kw)\u001b[0m\n\u001b[1;32m    702\u001b[0m \u001b[38;5;66;03m# Make the request on the httplib connection object.\u001b[39;00m\n\u001b[0;32m--> 703\u001b[0m httplib_response \u001b[38;5;241m=\u001b[39m \u001b[38;5;28;43mself\u001b[39;49m\u001b[38;5;241;43m.\u001b[39;49m\u001b[43m_make_request\u001b[49m\u001b[43m(\u001b[49m\n\u001b[1;32m    704\u001b[0m \u001b[43m    \u001b[49m\u001b[43mconn\u001b[49m\u001b[43m,\u001b[49m\n\u001b[1;32m    705\u001b[0m \u001b[43m    \u001b[49m\u001b[43mmethod\u001b[49m\u001b[43m,\u001b[49m\n\u001b[1;32m    706\u001b[0m \u001b[43m    \u001b[49m\u001b[43murl\u001b[49m\u001b[43m,\u001b[49m\n\u001b[1;32m    707\u001b[0m \u001b[43m    \u001b[49m\u001b[43mtimeout\u001b[49m\u001b[38;5;241;43m=\u001b[39;49m\u001b[43mtimeout_obj\u001b[49m\u001b[43m,\u001b[49m\n\u001b[1;32m    708\u001b[0m \u001b[43m    \u001b[49m\u001b[43mbody\u001b[49m\u001b[38;5;241;43m=\u001b[39;49m\u001b[43mbody\u001b[49m\u001b[43m,\u001b[49m\n\u001b[1;32m    709\u001b[0m \u001b[43m    \u001b[49m\u001b[43mheaders\u001b[49m\u001b[38;5;241;43m=\u001b[39;49m\u001b[43mheaders\u001b[49m\u001b[43m,\u001b[49m\n\u001b[1;32m    710\u001b[0m \u001b[43m    \u001b[49m\u001b[43mchunked\u001b[49m\u001b[38;5;241;43m=\u001b[39;49m\u001b[43mchunked\u001b[49m\u001b[43m,\u001b[49m\n\u001b[1;32m    711\u001b[0m \u001b[43m\u001b[49m\u001b[43m)\u001b[49m\n\u001b[1;32m    713\u001b[0m \u001b[38;5;66;03m# If we're going to release the connection in ``finally:``, then\u001b[39;00m\n\u001b[1;32m    714\u001b[0m \u001b[38;5;66;03m# the response doesn't need to know about the connection. Otherwise\u001b[39;00m\n\u001b[1;32m    715\u001b[0m \u001b[38;5;66;03m# it will also try to release it and we'll have a double-release\u001b[39;00m\n\u001b[1;32m    716\u001b[0m \u001b[38;5;66;03m# mess.\u001b[39;00m\n",
      "File \u001b[0;32m/opt/conda/lib/python3.9/site-packages/urllib3/connectionpool.py:449\u001b[0m, in \u001b[0;36mHTTPConnectionPool._make_request\u001b[0;34m(self, conn, method, url, timeout, chunked, **httplib_request_kw)\u001b[0m\n\u001b[1;32m    445\u001b[0m         \u001b[38;5;28;01mexcept\u001b[39;00m \u001b[38;5;167;01mBaseException\u001b[39;00m \u001b[38;5;28;01mas\u001b[39;00m e:\n\u001b[1;32m    446\u001b[0m             \u001b[38;5;66;03m# Remove the TypeError from the exception chain in\u001b[39;00m\n\u001b[1;32m    447\u001b[0m             \u001b[38;5;66;03m# Python 3 (including for exceptions like SystemExit).\u001b[39;00m\n\u001b[1;32m    448\u001b[0m             \u001b[38;5;66;03m# Otherwise it looks like a bug in the code.\u001b[39;00m\n\u001b[0;32m--> 449\u001b[0m             \u001b[43msix\u001b[49m\u001b[38;5;241;43m.\u001b[39;49m\u001b[43mraise_from\u001b[49m\u001b[43m(\u001b[49m\u001b[43me\u001b[49m\u001b[43m,\u001b[49m\u001b[43m \u001b[49m\u001b[38;5;28;43;01mNone\u001b[39;49;00m\u001b[43m)\u001b[49m\n\u001b[1;32m    450\u001b[0m \u001b[38;5;28;01mexcept\u001b[39;00m (SocketTimeout, BaseSSLError, SocketError) \u001b[38;5;28;01mas\u001b[39;00m e:\n",
      "File \u001b[0;32m<string>:3\u001b[0m, in \u001b[0;36mraise_from\u001b[0;34m(value, from_value)\u001b[0m\n",
      "File \u001b[0;32m/opt/conda/lib/python3.9/site-packages/urllib3/connectionpool.py:444\u001b[0m, in \u001b[0;36mHTTPConnectionPool._make_request\u001b[0;34m(self, conn, method, url, timeout, chunked, **httplib_request_kw)\u001b[0m\n\u001b[1;32m    443\u001b[0m \u001b[38;5;28;01mtry\u001b[39;00m:\n\u001b[0;32m--> 444\u001b[0m     httplib_response \u001b[38;5;241m=\u001b[39m \u001b[43mconn\u001b[49m\u001b[38;5;241;43m.\u001b[39;49m\u001b[43mgetresponse\u001b[49m\u001b[43m(\u001b[49m\u001b[43m)\u001b[49m\n\u001b[1;32m    445\u001b[0m \u001b[38;5;28;01mexcept\u001b[39;00m \u001b[38;5;167;01mBaseException\u001b[39;00m \u001b[38;5;28;01mas\u001b[39;00m e:\n\u001b[1;32m    446\u001b[0m     \u001b[38;5;66;03m# Remove the TypeError from the exception chain in\u001b[39;00m\n\u001b[1;32m    447\u001b[0m     \u001b[38;5;66;03m# Python 3 (including for exceptions like SystemExit).\u001b[39;00m\n\u001b[1;32m    448\u001b[0m     \u001b[38;5;66;03m# Otherwise it looks like a bug in the code.\u001b[39;00m\n",
      "File \u001b[0;32m/opt/conda/lib/python3.9/http/client.py:1377\u001b[0m, in \u001b[0;36mHTTPConnection.getresponse\u001b[0;34m(self)\u001b[0m\n\u001b[1;32m   1376\u001b[0m \u001b[38;5;28;01mtry\u001b[39;00m:\n\u001b[0;32m-> 1377\u001b[0m     \u001b[43mresponse\u001b[49m\u001b[38;5;241;43m.\u001b[39;49m\u001b[43mbegin\u001b[49m\u001b[43m(\u001b[49m\u001b[43m)\u001b[49m\n\u001b[1;32m   1378\u001b[0m \u001b[38;5;28;01mexcept\u001b[39;00m \u001b[38;5;167;01mConnectionError\u001b[39;00m:\n",
      "File \u001b[0;32m/opt/conda/lib/python3.9/http/client.py:320\u001b[0m, in \u001b[0;36mHTTPResponse.begin\u001b[0;34m(self)\u001b[0m\n\u001b[1;32m    319\u001b[0m \u001b[38;5;28;01mwhile\u001b[39;00m \u001b[38;5;28;01mTrue\u001b[39;00m:\n\u001b[0;32m--> 320\u001b[0m     version, status, reason \u001b[38;5;241m=\u001b[39m \u001b[38;5;28;43mself\u001b[39;49m\u001b[38;5;241;43m.\u001b[39;49m\u001b[43m_read_status\u001b[49m\u001b[43m(\u001b[49m\u001b[43m)\u001b[49m\n\u001b[1;32m    321\u001b[0m     \u001b[38;5;28;01mif\u001b[39;00m status \u001b[38;5;241m!=\u001b[39m CONTINUE:\n",
      "File \u001b[0;32m/opt/conda/lib/python3.9/http/client.py:281\u001b[0m, in \u001b[0;36mHTTPResponse._read_status\u001b[0;34m(self)\u001b[0m\n\u001b[1;32m    280\u001b[0m \u001b[38;5;28;01mdef\u001b[39;00m \u001b[38;5;21m_read_status\u001b[39m(\u001b[38;5;28mself\u001b[39m):\n\u001b[0;32m--> 281\u001b[0m     line \u001b[38;5;241m=\u001b[39m \u001b[38;5;28mstr\u001b[39m(\u001b[38;5;28;43mself\u001b[39;49m\u001b[38;5;241;43m.\u001b[39;49m\u001b[43mfp\u001b[49m\u001b[38;5;241;43m.\u001b[39;49m\u001b[43mreadline\u001b[49m\u001b[43m(\u001b[49m\u001b[43m_MAXLINE\u001b[49m\u001b[43m \u001b[49m\u001b[38;5;241;43m+\u001b[39;49m\u001b[43m \u001b[49m\u001b[38;5;241;43m1\u001b[39;49m\u001b[43m)\u001b[49m, \u001b[38;5;124m\"\u001b[39m\u001b[38;5;124miso-8859-1\u001b[39m\u001b[38;5;124m\"\u001b[39m)\n\u001b[1;32m    282\u001b[0m     \u001b[38;5;28;01mif\u001b[39;00m \u001b[38;5;28mlen\u001b[39m(line) \u001b[38;5;241m>\u001b[39m _MAXLINE:\n",
      "File \u001b[0;32m/opt/conda/lib/python3.9/socket.py:704\u001b[0m, in \u001b[0;36mSocketIO.readinto\u001b[0;34m(self, b)\u001b[0m\n\u001b[1;32m    703\u001b[0m \u001b[38;5;28;01mtry\u001b[39;00m:\n\u001b[0;32m--> 704\u001b[0m     \u001b[38;5;28;01mreturn\u001b[39;00m \u001b[38;5;28;43mself\u001b[39;49m\u001b[38;5;241;43m.\u001b[39;49m\u001b[43m_sock\u001b[49m\u001b[38;5;241;43m.\u001b[39;49m\u001b[43mrecv_into\u001b[49m\u001b[43m(\u001b[49m\u001b[43mb\u001b[49m\u001b[43m)\u001b[49m\n\u001b[1;32m    705\u001b[0m \u001b[38;5;28;01mexcept\u001b[39;00m timeout:\n",
      "File \u001b[0;32m/opt/conda/lib/python3.9/ssl.py:1241\u001b[0m, in \u001b[0;36mSSLSocket.recv_into\u001b[0;34m(self, buffer, nbytes, flags)\u001b[0m\n\u001b[1;32m   1238\u001b[0m         \u001b[38;5;28;01mraise\u001b[39;00m \u001b[38;5;167;01mValueError\u001b[39;00m(\n\u001b[1;32m   1239\u001b[0m           \u001b[38;5;124m\"\u001b[39m\u001b[38;5;124mnon-zero flags not allowed in calls to recv_into() on \u001b[39m\u001b[38;5;132;01m%s\u001b[39;00m\u001b[38;5;124m\"\u001b[39m \u001b[38;5;241m%\u001b[39m\n\u001b[1;32m   1240\u001b[0m           \u001b[38;5;28mself\u001b[39m\u001b[38;5;241m.\u001b[39m\u001b[38;5;18m__class__\u001b[39m)\n\u001b[0;32m-> 1241\u001b[0m     \u001b[38;5;28;01mreturn\u001b[39;00m \u001b[38;5;28;43mself\u001b[39;49m\u001b[38;5;241;43m.\u001b[39;49m\u001b[43mread\u001b[49m\u001b[43m(\u001b[49m\u001b[43mnbytes\u001b[49m\u001b[43m,\u001b[49m\u001b[43m \u001b[49m\u001b[43mbuffer\u001b[49m\u001b[43m)\u001b[49m\n\u001b[1;32m   1242\u001b[0m \u001b[38;5;28;01melse\u001b[39;00m:\n",
      "File \u001b[0;32m/opt/conda/lib/python3.9/ssl.py:1099\u001b[0m, in \u001b[0;36mSSLSocket.read\u001b[0;34m(self, len, buffer)\u001b[0m\n\u001b[1;32m   1098\u001b[0m \u001b[38;5;28;01mif\u001b[39;00m buffer \u001b[38;5;129;01mis\u001b[39;00m \u001b[38;5;129;01mnot\u001b[39;00m \u001b[38;5;28;01mNone\u001b[39;00m:\n\u001b[0;32m-> 1099\u001b[0m     \u001b[38;5;28;01mreturn\u001b[39;00m \u001b[38;5;28;43mself\u001b[39;49m\u001b[38;5;241;43m.\u001b[39;49m\u001b[43m_sslobj\u001b[49m\u001b[38;5;241;43m.\u001b[39;49m\u001b[43mread\u001b[49m\u001b[43m(\u001b[49m\u001b[38;5;28;43mlen\u001b[39;49m\u001b[43m,\u001b[49m\u001b[43m \u001b[49m\u001b[43mbuffer\u001b[49m\u001b[43m)\u001b[49m\n\u001b[1;32m   1100\u001b[0m \u001b[38;5;28;01melse\u001b[39;00m:\n",
      "\u001b[0;31mConnectionResetError\u001b[0m: [Errno 104] Connection reset by peer",
      "\nDuring handling of the above exception, another exception occurred:\n",
      "\u001b[0;31mProtocolError\u001b[0m                             Traceback (most recent call last)",
      "File \u001b[0;32m/opt/conda/lib/python3.9/site-packages/requests/adapters.py:440\u001b[0m, in \u001b[0;36mHTTPAdapter.send\u001b[0;34m(self, request, stream, timeout, verify, cert, proxies)\u001b[0m\n\u001b[1;32m    439\u001b[0m \u001b[38;5;28;01mif\u001b[39;00m \u001b[38;5;129;01mnot\u001b[39;00m chunked:\n\u001b[0;32m--> 440\u001b[0m     resp \u001b[38;5;241m=\u001b[39m \u001b[43mconn\u001b[49m\u001b[38;5;241;43m.\u001b[39;49m\u001b[43murlopen\u001b[49m\u001b[43m(\u001b[49m\n\u001b[1;32m    441\u001b[0m \u001b[43m        \u001b[49m\u001b[43mmethod\u001b[49m\u001b[38;5;241;43m=\u001b[39;49m\u001b[43mrequest\u001b[49m\u001b[38;5;241;43m.\u001b[39;49m\u001b[43mmethod\u001b[49m\u001b[43m,\u001b[49m\n\u001b[1;32m    442\u001b[0m \u001b[43m        \u001b[49m\u001b[43murl\u001b[49m\u001b[38;5;241;43m=\u001b[39;49m\u001b[43murl\u001b[49m\u001b[43m,\u001b[49m\n\u001b[1;32m    443\u001b[0m \u001b[43m        \u001b[49m\u001b[43mbody\u001b[49m\u001b[38;5;241;43m=\u001b[39;49m\u001b[43mrequest\u001b[49m\u001b[38;5;241;43m.\u001b[39;49m\u001b[43mbody\u001b[49m\u001b[43m,\u001b[49m\n\u001b[1;32m    444\u001b[0m \u001b[43m        \u001b[49m\u001b[43mheaders\u001b[49m\u001b[38;5;241;43m=\u001b[39;49m\u001b[43mrequest\u001b[49m\u001b[38;5;241;43m.\u001b[39;49m\u001b[43mheaders\u001b[49m\u001b[43m,\u001b[49m\n\u001b[1;32m    445\u001b[0m \u001b[43m        \u001b[49m\u001b[43mredirect\u001b[49m\u001b[38;5;241;43m=\u001b[39;49m\u001b[38;5;28;43;01mFalse\u001b[39;49;00m\u001b[43m,\u001b[49m\n\u001b[1;32m    446\u001b[0m \u001b[43m        \u001b[49m\u001b[43massert_same_host\u001b[49m\u001b[38;5;241;43m=\u001b[39;49m\u001b[38;5;28;43;01mFalse\u001b[39;49;00m\u001b[43m,\u001b[49m\n\u001b[1;32m    447\u001b[0m \u001b[43m        \u001b[49m\u001b[43mpreload_content\u001b[49m\u001b[38;5;241;43m=\u001b[39;49m\u001b[38;5;28;43;01mFalse\u001b[39;49;00m\u001b[43m,\u001b[49m\n\u001b[1;32m    448\u001b[0m \u001b[43m        \u001b[49m\u001b[43mdecode_content\u001b[49m\u001b[38;5;241;43m=\u001b[39;49m\u001b[38;5;28;43;01mFalse\u001b[39;49;00m\u001b[43m,\u001b[49m\n\u001b[1;32m    449\u001b[0m \u001b[43m        \u001b[49m\u001b[43mretries\u001b[49m\u001b[38;5;241;43m=\u001b[39;49m\u001b[38;5;28;43mself\u001b[39;49m\u001b[38;5;241;43m.\u001b[39;49m\u001b[43mmax_retries\u001b[49m\u001b[43m,\u001b[49m\n\u001b[1;32m    450\u001b[0m \u001b[43m        \u001b[49m\u001b[43mtimeout\u001b[49m\u001b[38;5;241;43m=\u001b[39;49m\u001b[43mtimeout\u001b[49m\n\u001b[1;32m    451\u001b[0m \u001b[43m    \u001b[49m\u001b[43m)\u001b[49m\n\u001b[1;32m    453\u001b[0m \u001b[38;5;66;03m# Send the request.\u001b[39;00m\n\u001b[1;32m    454\u001b[0m \u001b[38;5;28;01melse\u001b[39;00m:\n",
      "File \u001b[0;32m/opt/conda/lib/python3.9/site-packages/urllib3/connectionpool.py:785\u001b[0m, in \u001b[0;36mHTTPConnectionPool.urlopen\u001b[0;34m(self, method, url, body, headers, retries, redirect, assert_same_host, timeout, pool_timeout, release_conn, chunked, body_pos, **response_kw)\u001b[0m\n\u001b[1;32m    783\u001b[0m     e \u001b[38;5;241m=\u001b[39m ProtocolError(\u001b[38;5;124m\"\u001b[39m\u001b[38;5;124mConnection aborted.\u001b[39m\u001b[38;5;124m\"\u001b[39m, e)\n\u001b[0;32m--> 785\u001b[0m retries \u001b[38;5;241m=\u001b[39m \u001b[43mretries\u001b[49m\u001b[38;5;241;43m.\u001b[39;49m\u001b[43mincrement\u001b[49m\u001b[43m(\u001b[49m\n\u001b[1;32m    786\u001b[0m \u001b[43m    \u001b[49m\u001b[43mmethod\u001b[49m\u001b[43m,\u001b[49m\u001b[43m \u001b[49m\u001b[43murl\u001b[49m\u001b[43m,\u001b[49m\u001b[43m \u001b[49m\u001b[43merror\u001b[49m\u001b[38;5;241;43m=\u001b[39;49m\u001b[43me\u001b[49m\u001b[43m,\u001b[49m\u001b[43m \u001b[49m\u001b[43m_pool\u001b[49m\u001b[38;5;241;43m=\u001b[39;49m\u001b[38;5;28;43mself\u001b[39;49m\u001b[43m,\u001b[49m\u001b[43m \u001b[49m\u001b[43m_stacktrace\u001b[49m\u001b[38;5;241;43m=\u001b[39;49m\u001b[43msys\u001b[49m\u001b[38;5;241;43m.\u001b[39;49m\u001b[43mexc_info\u001b[49m\u001b[43m(\u001b[49m\u001b[43m)\u001b[49m\u001b[43m[\u001b[49m\u001b[38;5;241;43m2\u001b[39;49m\u001b[43m]\u001b[49m\n\u001b[1;32m    787\u001b[0m \u001b[43m\u001b[49m\u001b[43m)\u001b[49m\n\u001b[1;32m    788\u001b[0m retries\u001b[38;5;241m.\u001b[39msleep()\n",
      "File \u001b[0;32m/opt/conda/lib/python3.9/site-packages/urllib3/util/retry.py:550\u001b[0m, in \u001b[0;36mRetry.increment\u001b[0;34m(self, method, url, response, error, _pool, _stacktrace)\u001b[0m\n\u001b[1;32m    549\u001b[0m \u001b[38;5;28;01mif\u001b[39;00m read \u001b[38;5;129;01mis\u001b[39;00m \u001b[38;5;28;01mFalse\u001b[39;00m \u001b[38;5;129;01mor\u001b[39;00m \u001b[38;5;129;01mnot\u001b[39;00m \u001b[38;5;28mself\u001b[39m\u001b[38;5;241m.\u001b[39m_is_method_retryable(method):\n\u001b[0;32m--> 550\u001b[0m     \u001b[38;5;28;01mraise\u001b[39;00m \u001b[43msix\u001b[49m\u001b[38;5;241;43m.\u001b[39;49m\u001b[43mreraise\u001b[49m\u001b[43m(\u001b[49m\u001b[38;5;28;43mtype\u001b[39;49m\u001b[43m(\u001b[49m\u001b[43merror\u001b[49m\u001b[43m)\u001b[49m\u001b[43m,\u001b[49m\u001b[43m \u001b[49m\u001b[43merror\u001b[49m\u001b[43m,\u001b[49m\u001b[43m \u001b[49m\u001b[43m_stacktrace\u001b[49m\u001b[43m)\u001b[49m\n\u001b[1;32m    551\u001b[0m \u001b[38;5;28;01melif\u001b[39;00m read \u001b[38;5;129;01mis\u001b[39;00m \u001b[38;5;129;01mnot\u001b[39;00m \u001b[38;5;28;01mNone\u001b[39;00m:\n",
      "File \u001b[0;32m/opt/conda/lib/python3.9/site-packages/urllib3/packages/six.py:769\u001b[0m, in \u001b[0;36mreraise\u001b[0;34m(tp, value, tb)\u001b[0m\n\u001b[1;32m    768\u001b[0m \u001b[38;5;28;01mif\u001b[39;00m value\u001b[38;5;241m.\u001b[39m__traceback__ \u001b[38;5;129;01mis\u001b[39;00m \u001b[38;5;129;01mnot\u001b[39;00m tb:\n\u001b[0;32m--> 769\u001b[0m     \u001b[38;5;28;01mraise\u001b[39;00m value\u001b[38;5;241m.\u001b[39mwith_traceback(tb)\n\u001b[1;32m    770\u001b[0m \u001b[38;5;28;01mraise\u001b[39;00m value\n",
      "File \u001b[0;32m/opt/conda/lib/python3.9/site-packages/urllib3/connectionpool.py:703\u001b[0m, in \u001b[0;36mHTTPConnectionPool.urlopen\u001b[0;34m(self, method, url, body, headers, retries, redirect, assert_same_host, timeout, pool_timeout, release_conn, chunked, body_pos, **response_kw)\u001b[0m\n\u001b[1;32m    702\u001b[0m \u001b[38;5;66;03m# Make the request on the httplib connection object.\u001b[39;00m\n\u001b[0;32m--> 703\u001b[0m httplib_response \u001b[38;5;241m=\u001b[39m \u001b[38;5;28;43mself\u001b[39;49m\u001b[38;5;241;43m.\u001b[39;49m\u001b[43m_make_request\u001b[49m\u001b[43m(\u001b[49m\n\u001b[1;32m    704\u001b[0m \u001b[43m    \u001b[49m\u001b[43mconn\u001b[49m\u001b[43m,\u001b[49m\n\u001b[1;32m    705\u001b[0m \u001b[43m    \u001b[49m\u001b[43mmethod\u001b[49m\u001b[43m,\u001b[49m\n\u001b[1;32m    706\u001b[0m \u001b[43m    \u001b[49m\u001b[43murl\u001b[49m\u001b[43m,\u001b[49m\n\u001b[1;32m    707\u001b[0m \u001b[43m    \u001b[49m\u001b[43mtimeout\u001b[49m\u001b[38;5;241;43m=\u001b[39;49m\u001b[43mtimeout_obj\u001b[49m\u001b[43m,\u001b[49m\n\u001b[1;32m    708\u001b[0m \u001b[43m    \u001b[49m\u001b[43mbody\u001b[49m\u001b[38;5;241;43m=\u001b[39;49m\u001b[43mbody\u001b[49m\u001b[43m,\u001b[49m\n\u001b[1;32m    709\u001b[0m \u001b[43m    \u001b[49m\u001b[43mheaders\u001b[49m\u001b[38;5;241;43m=\u001b[39;49m\u001b[43mheaders\u001b[49m\u001b[43m,\u001b[49m\n\u001b[1;32m    710\u001b[0m \u001b[43m    \u001b[49m\u001b[43mchunked\u001b[49m\u001b[38;5;241;43m=\u001b[39;49m\u001b[43mchunked\u001b[49m\u001b[43m,\u001b[49m\n\u001b[1;32m    711\u001b[0m \u001b[43m\u001b[49m\u001b[43m)\u001b[49m\n\u001b[1;32m    713\u001b[0m \u001b[38;5;66;03m# If we're going to release the connection in ``finally:``, then\u001b[39;00m\n\u001b[1;32m    714\u001b[0m \u001b[38;5;66;03m# the response doesn't need to know about the connection. Otherwise\u001b[39;00m\n\u001b[1;32m    715\u001b[0m \u001b[38;5;66;03m# it will also try to release it and we'll have a double-release\u001b[39;00m\n\u001b[1;32m    716\u001b[0m \u001b[38;5;66;03m# mess.\u001b[39;00m\n",
      "File \u001b[0;32m/opt/conda/lib/python3.9/site-packages/urllib3/connectionpool.py:449\u001b[0m, in \u001b[0;36mHTTPConnectionPool._make_request\u001b[0;34m(self, conn, method, url, timeout, chunked, **httplib_request_kw)\u001b[0m\n\u001b[1;32m    445\u001b[0m         \u001b[38;5;28;01mexcept\u001b[39;00m \u001b[38;5;167;01mBaseException\u001b[39;00m \u001b[38;5;28;01mas\u001b[39;00m e:\n\u001b[1;32m    446\u001b[0m             \u001b[38;5;66;03m# Remove the TypeError from the exception chain in\u001b[39;00m\n\u001b[1;32m    447\u001b[0m             \u001b[38;5;66;03m# Python 3 (including for exceptions like SystemExit).\u001b[39;00m\n\u001b[1;32m    448\u001b[0m             \u001b[38;5;66;03m# Otherwise it looks like a bug in the code.\u001b[39;00m\n\u001b[0;32m--> 449\u001b[0m             \u001b[43msix\u001b[49m\u001b[38;5;241;43m.\u001b[39;49m\u001b[43mraise_from\u001b[49m\u001b[43m(\u001b[49m\u001b[43me\u001b[49m\u001b[43m,\u001b[49m\u001b[43m \u001b[49m\u001b[38;5;28;43;01mNone\u001b[39;49;00m\u001b[43m)\u001b[49m\n\u001b[1;32m    450\u001b[0m \u001b[38;5;28;01mexcept\u001b[39;00m (SocketTimeout, BaseSSLError, SocketError) \u001b[38;5;28;01mas\u001b[39;00m e:\n",
      "File \u001b[0;32m<string>:3\u001b[0m, in \u001b[0;36mraise_from\u001b[0;34m(value, from_value)\u001b[0m\n",
      "File \u001b[0;32m/opt/conda/lib/python3.9/site-packages/urllib3/connectionpool.py:444\u001b[0m, in \u001b[0;36mHTTPConnectionPool._make_request\u001b[0;34m(self, conn, method, url, timeout, chunked, **httplib_request_kw)\u001b[0m\n\u001b[1;32m    443\u001b[0m \u001b[38;5;28;01mtry\u001b[39;00m:\n\u001b[0;32m--> 444\u001b[0m     httplib_response \u001b[38;5;241m=\u001b[39m \u001b[43mconn\u001b[49m\u001b[38;5;241;43m.\u001b[39;49m\u001b[43mgetresponse\u001b[49m\u001b[43m(\u001b[49m\u001b[43m)\u001b[49m\n\u001b[1;32m    445\u001b[0m \u001b[38;5;28;01mexcept\u001b[39;00m \u001b[38;5;167;01mBaseException\u001b[39;00m \u001b[38;5;28;01mas\u001b[39;00m e:\n\u001b[1;32m    446\u001b[0m     \u001b[38;5;66;03m# Remove the TypeError from the exception chain in\u001b[39;00m\n\u001b[1;32m    447\u001b[0m     \u001b[38;5;66;03m# Python 3 (including for exceptions like SystemExit).\u001b[39;00m\n\u001b[1;32m    448\u001b[0m     \u001b[38;5;66;03m# Otherwise it looks like a bug in the code.\u001b[39;00m\n",
      "File \u001b[0;32m/opt/conda/lib/python3.9/http/client.py:1377\u001b[0m, in \u001b[0;36mHTTPConnection.getresponse\u001b[0;34m(self)\u001b[0m\n\u001b[1;32m   1376\u001b[0m \u001b[38;5;28;01mtry\u001b[39;00m:\n\u001b[0;32m-> 1377\u001b[0m     \u001b[43mresponse\u001b[49m\u001b[38;5;241;43m.\u001b[39;49m\u001b[43mbegin\u001b[49m\u001b[43m(\u001b[49m\u001b[43m)\u001b[49m\n\u001b[1;32m   1378\u001b[0m \u001b[38;5;28;01mexcept\u001b[39;00m \u001b[38;5;167;01mConnectionError\u001b[39;00m:\n",
      "File \u001b[0;32m/opt/conda/lib/python3.9/http/client.py:320\u001b[0m, in \u001b[0;36mHTTPResponse.begin\u001b[0;34m(self)\u001b[0m\n\u001b[1;32m    319\u001b[0m \u001b[38;5;28;01mwhile\u001b[39;00m \u001b[38;5;28;01mTrue\u001b[39;00m:\n\u001b[0;32m--> 320\u001b[0m     version, status, reason \u001b[38;5;241m=\u001b[39m \u001b[38;5;28;43mself\u001b[39;49m\u001b[38;5;241;43m.\u001b[39;49m\u001b[43m_read_status\u001b[49m\u001b[43m(\u001b[49m\u001b[43m)\u001b[49m\n\u001b[1;32m    321\u001b[0m     \u001b[38;5;28;01mif\u001b[39;00m status \u001b[38;5;241m!=\u001b[39m CONTINUE:\n",
      "File \u001b[0;32m/opt/conda/lib/python3.9/http/client.py:281\u001b[0m, in \u001b[0;36mHTTPResponse._read_status\u001b[0;34m(self)\u001b[0m\n\u001b[1;32m    280\u001b[0m \u001b[38;5;28;01mdef\u001b[39;00m \u001b[38;5;21m_read_status\u001b[39m(\u001b[38;5;28mself\u001b[39m):\n\u001b[0;32m--> 281\u001b[0m     line \u001b[38;5;241m=\u001b[39m \u001b[38;5;28mstr\u001b[39m(\u001b[38;5;28;43mself\u001b[39;49m\u001b[38;5;241;43m.\u001b[39;49m\u001b[43mfp\u001b[49m\u001b[38;5;241;43m.\u001b[39;49m\u001b[43mreadline\u001b[49m\u001b[43m(\u001b[49m\u001b[43m_MAXLINE\u001b[49m\u001b[43m \u001b[49m\u001b[38;5;241;43m+\u001b[39;49m\u001b[43m \u001b[49m\u001b[38;5;241;43m1\u001b[39;49m\u001b[43m)\u001b[49m, \u001b[38;5;124m\"\u001b[39m\u001b[38;5;124miso-8859-1\u001b[39m\u001b[38;5;124m\"\u001b[39m)\n\u001b[1;32m    282\u001b[0m     \u001b[38;5;28;01mif\u001b[39;00m \u001b[38;5;28mlen\u001b[39m(line) \u001b[38;5;241m>\u001b[39m _MAXLINE:\n",
      "File \u001b[0;32m/opt/conda/lib/python3.9/socket.py:704\u001b[0m, in \u001b[0;36mSocketIO.readinto\u001b[0;34m(self, b)\u001b[0m\n\u001b[1;32m    703\u001b[0m \u001b[38;5;28;01mtry\u001b[39;00m:\n\u001b[0;32m--> 704\u001b[0m     \u001b[38;5;28;01mreturn\u001b[39;00m \u001b[38;5;28;43mself\u001b[39;49m\u001b[38;5;241;43m.\u001b[39;49m\u001b[43m_sock\u001b[49m\u001b[38;5;241;43m.\u001b[39;49m\u001b[43mrecv_into\u001b[49m\u001b[43m(\u001b[49m\u001b[43mb\u001b[49m\u001b[43m)\u001b[49m\n\u001b[1;32m    705\u001b[0m \u001b[38;5;28;01mexcept\u001b[39;00m timeout:\n",
      "File \u001b[0;32m/opt/conda/lib/python3.9/ssl.py:1241\u001b[0m, in \u001b[0;36mSSLSocket.recv_into\u001b[0;34m(self, buffer, nbytes, flags)\u001b[0m\n\u001b[1;32m   1238\u001b[0m         \u001b[38;5;28;01mraise\u001b[39;00m \u001b[38;5;167;01mValueError\u001b[39;00m(\n\u001b[1;32m   1239\u001b[0m           \u001b[38;5;124m\"\u001b[39m\u001b[38;5;124mnon-zero flags not allowed in calls to recv_into() on \u001b[39m\u001b[38;5;132;01m%s\u001b[39;00m\u001b[38;5;124m\"\u001b[39m \u001b[38;5;241m%\u001b[39m\n\u001b[1;32m   1240\u001b[0m           \u001b[38;5;28mself\u001b[39m\u001b[38;5;241m.\u001b[39m\u001b[38;5;18m__class__\u001b[39m)\n\u001b[0;32m-> 1241\u001b[0m     \u001b[38;5;28;01mreturn\u001b[39;00m \u001b[38;5;28;43mself\u001b[39;49m\u001b[38;5;241;43m.\u001b[39;49m\u001b[43mread\u001b[49m\u001b[43m(\u001b[49m\u001b[43mnbytes\u001b[49m\u001b[43m,\u001b[49m\u001b[43m \u001b[49m\u001b[43mbuffer\u001b[49m\u001b[43m)\u001b[49m\n\u001b[1;32m   1242\u001b[0m \u001b[38;5;28;01melse\u001b[39;00m:\n",
      "File \u001b[0;32m/opt/conda/lib/python3.9/ssl.py:1099\u001b[0m, in \u001b[0;36mSSLSocket.read\u001b[0;34m(self, len, buffer)\u001b[0m\n\u001b[1;32m   1098\u001b[0m \u001b[38;5;28;01mif\u001b[39;00m buffer \u001b[38;5;129;01mis\u001b[39;00m \u001b[38;5;129;01mnot\u001b[39;00m \u001b[38;5;28;01mNone\u001b[39;00m:\n\u001b[0;32m-> 1099\u001b[0m     \u001b[38;5;28;01mreturn\u001b[39;00m \u001b[38;5;28;43mself\u001b[39;49m\u001b[38;5;241;43m.\u001b[39;49m\u001b[43m_sslobj\u001b[49m\u001b[38;5;241;43m.\u001b[39;49m\u001b[43mread\u001b[49m\u001b[43m(\u001b[49m\u001b[38;5;28;43mlen\u001b[39;49m\u001b[43m,\u001b[49m\u001b[43m \u001b[49m\u001b[43mbuffer\u001b[49m\u001b[43m)\u001b[49m\n\u001b[1;32m   1100\u001b[0m \u001b[38;5;28;01melse\u001b[39;00m:\n",
      "\u001b[0;31mProtocolError\u001b[0m: ('Connection aborted.', ConnectionResetError(104, 'Connection reset by peer'))",
      "\nDuring handling of the above exception, another exception occurred:\n",
      "\u001b[0;31mConnectionError\u001b[0m                           Traceback (most recent call last)",
      "Input \u001b[0;32mIn [11]\u001b[0m, in \u001b[0;36m<cell line: 1>\u001b[0;34m()\u001b[0m\n\u001b[0;32m----> 1\u001b[0m data_gas_prices_household_consumers \u001b[38;5;241m=\u001b[39m \u001b[43mdataframe_by_key\u001b[49m\u001b[43m(\u001b[49m\u001b[43m \u001b[49m\n\u001b[1;32m      2\u001b[0m \u001b[43m    \u001b[49m\u001b[43mkey\u001b[49m\u001b[43m    \u001b[49m\u001b[38;5;241;43m=\u001b[39;49m\u001b[43m \u001b[49m\u001b[38;5;124;43m'\u001b[39;49m\u001b[38;5;124;43mNRG_PC_202_C\u001b[39;49m\u001b[38;5;124;43m'\u001b[39;49m\u001b[43m,\u001b[49m\u001b[43m \u001b[49m\n\u001b[1;32m      3\u001b[0m \u001b[43m    \u001b[49m\u001b[38;5;28;43mfilter\u001b[39;49m\u001b[43m \u001b[49m\u001b[38;5;241;43m=\u001b[39;49m\u001b[43m \u001b[49m\u001b[38;5;124;43m'\u001b[39;49m\u001b[38;5;124;43mA,NRG_SUP,TOT_GJ,EUR,KWH\u001b[39;49m\u001b[38;5;124;43m'\u001b[39;49m\n\u001b[1;32m      4\u001b[0m \u001b[43m)\u001b[49m\n",
      "Input \u001b[0;32mIn [10]\u001b[0m, in \u001b[0;36mdataframe_by_key\u001b[0;34m(key, filter, gziped)\u001b[0m\n\u001b[1;32m     25\u001b[0m \u001b[38;5;28;01mdef\u001b[39;00m \u001b[38;5;21mdataframe_by_key\u001b[39m( key, \u001b[38;5;28mfilter\u001b[39m, gziped \u001b[38;5;241m=\u001b[39m \u001b[38;5;28;01mFalse\u001b[39;00m ):\n\u001b[0;32m---> 26\u001b[0m         \u001b[38;5;28;01mreturn\u001b[39;00m \u001b[43mflow\u001b[49m\u001b[43m(\u001b[49m\u001b[38;5;28;43mfilter\u001b[39;49m\u001b[43m)\u001b[49m\u001b[38;5;241;43m.\u001b[39;49m\u001b[43mapply\u001b[49m\u001b[43m(\u001b[49m\u001b[43m  \u001b[49m\u001b[43mget_raw_data_frame\u001b[49m\u001b[43m(\u001b[49m\u001b[43m \u001b[49m\u001b[43mkey\u001b[49m\u001b[43m,\u001b[49m\u001b[43m \u001b[49m\u001b[43mgziped\u001b[49m\u001b[43m \u001b[49m\u001b[43m)\u001b[49m\u001b[43m \u001b[49m\u001b[43m)\u001b[49m\n",
      "Input \u001b[0;32mIn [10]\u001b[0m, in \u001b[0;36mCompose.apply\u001b[0;34m(self, a)\u001b[0m\n\u001b[1;32m      7\u001b[0m \u001b[38;5;28;01mdef\u001b[39;00m \u001b[38;5;21mapply\u001b[39m(\u001b[38;5;28mself\u001b[39m, a): \n\u001b[0;32m----> 8\u001b[0m     \u001b[38;5;28;01mreturn\u001b[39;00m \u001b[38;5;28;43mself\u001b[39;49m\u001b[38;5;241;43m.\u001b[39;49m\u001b[43m_f\u001b[49m\u001b[43m(\u001b[49m\u001b[43m \u001b[49m\u001b[43ma\u001b[49m\u001b[43m \u001b[49m\u001b[43m)\u001b[49m\n",
      "Input \u001b[0;32mIn [10]\u001b[0m, in \u001b[0;36mCompose.andThen.<locals>.<lambda>\u001b[0;34m(s)\u001b[0m\n\u001b[1;32m      5\u001b[0m \u001b[38;5;28;01mdef\u001b[39;00m \u001b[38;5;21mandThen\u001b[39m( \u001b[38;5;28mself\u001b[39m, g ):\n\u001b[0;32m----> 6\u001b[0m     \u001b[38;5;28;01mreturn\u001b[39;00m Compose( \u001b[38;5;28;01mlambda\u001b[39;00m s: ( \u001b[43mg\u001b[49m\u001b[43m(\u001b[49m\u001b[43m \u001b[49m\u001b[38;5;28;43mself\u001b[39;49m\u001b[38;5;241;43m.\u001b[39;49m\u001b[43m_f\u001b[49m\u001b[43m(\u001b[49m\u001b[43ms\u001b[49m\u001b[43m)\u001b[49m\u001b[43m \u001b[49m\u001b[43m)\u001b[49m ) )\n",
      "Input \u001b[0;32mIn [8]\u001b[0m, in \u001b[0;36madd_column_country_name_flow.<locals>._add_column_country_name\u001b[0;34m(data)\u001b[0m\n\u001b[1;32m      3\u001b[0m \u001b[38;5;28;01mdef\u001b[39;00m \u001b[38;5;21m_add_column_country_name\u001b[39m(data) : \n\u001b[0;32m----> 4\u001b[0m     country_names \u001b[38;5;241m=\u001b[39m \u001b[43mget_country_names\u001b[49m\u001b[43m(\u001b[49m\u001b[43m)\u001b[49m    \n\u001b[1;32m      5\u001b[0m     data\u001b[38;5;241m.\u001b[39minsert(\n\u001b[1;32m      6\u001b[0m         \u001b[38;5;241m1\u001b[39m, \n\u001b[1;32m      7\u001b[0m         \u001b[38;5;124m'\u001b[39m\u001b[38;5;124mcountry_name\u001b[39m\u001b[38;5;124m'\u001b[39m, \n\u001b[1;32m      8\u001b[0m         data\u001b[38;5;241m.\u001b[39mcountry\u001b[38;5;241m.\u001b[39mmap(\u001b[38;5;28;01mlambda\u001b[39;00m v: country_names[v] ), \n\u001b[1;32m      9\u001b[0m         \u001b[38;5;28;01mTrue\u001b[39;00m\n\u001b[1;32m     10\u001b[0m     )\n\u001b[1;32m     11\u001b[0m     \u001b[38;5;28;01mreturn\u001b[39;00m data\n",
      "Input \u001b[0;32mIn [7]\u001b[0m, in \u001b[0;36mget_country_names\u001b[0;34m()\u001b[0m\n\u001b[1;32m      1\u001b[0m \u001b[38;5;28;01mdef\u001b[39;00m \u001b[38;5;21mget_country_names\u001b[39m():\n\u001b[0;32m----> 2\u001b[0m     url \u001b[38;5;241m=\u001b[39m \u001b[43mrequests\u001b[49m\u001b[38;5;241;43m.\u001b[39;49m\u001b[43mget\u001b[49m\u001b[43m(\u001b[49m\u001b[38;5;124;43m\"\u001b[39;49m\u001b[38;5;124;43mhttps://ec.europa.eu/eurostat/databrowser-backend/api/codelist/LIVE/GEO/getCodeListJson/9.0/ESTAT/en/false\u001b[39;49m\u001b[38;5;124;43m\"\u001b[39;49m\u001b[43m)\u001b[49m\n\u001b[1;32m      3\u001b[0m     text \u001b[38;5;241m=\u001b[39m url\u001b[38;5;241m.\u001b[39mtext\n\u001b[1;32m      4\u001b[0m     data \u001b[38;5;241m=\u001b[39m json\u001b[38;5;241m.\u001b[39mloads(text)\n",
      "File \u001b[0;32m/opt/conda/lib/python3.9/site-packages/requests/api.py:75\u001b[0m, in \u001b[0;36mget\u001b[0;34m(url, params, **kwargs)\u001b[0m\n\u001b[1;32m     64\u001b[0m \u001b[38;5;28;01mdef\u001b[39;00m \u001b[38;5;21mget\u001b[39m(url, params\u001b[38;5;241m=\u001b[39m\u001b[38;5;28;01mNone\u001b[39;00m, \u001b[38;5;241m*\u001b[39m\u001b[38;5;241m*\u001b[39mkwargs):\n\u001b[1;32m     65\u001b[0m     \u001b[38;5;124mr\u001b[39m\u001b[38;5;124;03m\"\"\"Sends a GET request.\u001b[39;00m\n\u001b[1;32m     66\u001b[0m \n\u001b[1;32m     67\u001b[0m \u001b[38;5;124;03m    :param url: URL for the new :class:`Request` object.\u001b[39;00m\n\u001b[0;32m   (...)\u001b[0m\n\u001b[1;32m     72\u001b[0m \u001b[38;5;124;03m    :rtype: requests.Response\u001b[39;00m\n\u001b[1;32m     73\u001b[0m \u001b[38;5;124;03m    \"\"\"\u001b[39;00m\n\u001b[0;32m---> 75\u001b[0m     \u001b[38;5;28;01mreturn\u001b[39;00m \u001b[43mrequest\u001b[49m\u001b[43m(\u001b[49m\u001b[38;5;124;43m'\u001b[39;49m\u001b[38;5;124;43mget\u001b[39;49m\u001b[38;5;124;43m'\u001b[39;49m\u001b[43m,\u001b[49m\u001b[43m \u001b[49m\u001b[43murl\u001b[49m\u001b[43m,\u001b[49m\u001b[43m \u001b[49m\u001b[43mparams\u001b[49m\u001b[38;5;241;43m=\u001b[39;49m\u001b[43mparams\u001b[49m\u001b[43m,\u001b[49m\u001b[43m \u001b[49m\u001b[38;5;241;43m*\u001b[39;49m\u001b[38;5;241;43m*\u001b[39;49m\u001b[43mkwargs\u001b[49m\u001b[43m)\u001b[49m\n",
      "File \u001b[0;32m/opt/conda/lib/python3.9/site-packages/requests/api.py:61\u001b[0m, in \u001b[0;36mrequest\u001b[0;34m(method, url, **kwargs)\u001b[0m\n\u001b[1;32m     57\u001b[0m \u001b[38;5;66;03m# By using the 'with' statement we are sure the session is closed, thus we\u001b[39;00m\n\u001b[1;32m     58\u001b[0m \u001b[38;5;66;03m# avoid leaving sockets open which can trigger a ResourceWarning in some\u001b[39;00m\n\u001b[1;32m     59\u001b[0m \u001b[38;5;66;03m# cases, and look like a memory leak in others.\u001b[39;00m\n\u001b[1;32m     60\u001b[0m \u001b[38;5;28;01mwith\u001b[39;00m sessions\u001b[38;5;241m.\u001b[39mSession() \u001b[38;5;28;01mas\u001b[39;00m session:\n\u001b[0;32m---> 61\u001b[0m     \u001b[38;5;28;01mreturn\u001b[39;00m \u001b[43msession\u001b[49m\u001b[38;5;241;43m.\u001b[39;49m\u001b[43mrequest\u001b[49m\u001b[43m(\u001b[49m\u001b[43mmethod\u001b[49m\u001b[38;5;241;43m=\u001b[39;49m\u001b[43mmethod\u001b[49m\u001b[43m,\u001b[49m\u001b[43m \u001b[49m\u001b[43murl\u001b[49m\u001b[38;5;241;43m=\u001b[39;49m\u001b[43murl\u001b[49m\u001b[43m,\u001b[49m\u001b[43m \u001b[49m\u001b[38;5;241;43m*\u001b[39;49m\u001b[38;5;241;43m*\u001b[39;49m\u001b[43mkwargs\u001b[49m\u001b[43m)\u001b[49m\n",
      "File \u001b[0;32m/opt/conda/lib/python3.9/site-packages/requests/sessions.py:529\u001b[0m, in \u001b[0;36mSession.request\u001b[0;34m(self, method, url, params, data, headers, cookies, files, auth, timeout, allow_redirects, proxies, hooks, stream, verify, cert, json)\u001b[0m\n\u001b[1;32m    524\u001b[0m send_kwargs \u001b[38;5;241m=\u001b[39m {\n\u001b[1;32m    525\u001b[0m     \u001b[38;5;124m'\u001b[39m\u001b[38;5;124mtimeout\u001b[39m\u001b[38;5;124m'\u001b[39m: timeout,\n\u001b[1;32m    526\u001b[0m     \u001b[38;5;124m'\u001b[39m\u001b[38;5;124mallow_redirects\u001b[39m\u001b[38;5;124m'\u001b[39m: allow_redirects,\n\u001b[1;32m    527\u001b[0m }\n\u001b[1;32m    528\u001b[0m send_kwargs\u001b[38;5;241m.\u001b[39mupdate(settings)\n\u001b[0;32m--> 529\u001b[0m resp \u001b[38;5;241m=\u001b[39m \u001b[38;5;28;43mself\u001b[39;49m\u001b[38;5;241;43m.\u001b[39;49m\u001b[43msend\u001b[49m\u001b[43m(\u001b[49m\u001b[43mprep\u001b[49m\u001b[43m,\u001b[49m\u001b[43m \u001b[49m\u001b[38;5;241;43m*\u001b[39;49m\u001b[38;5;241;43m*\u001b[39;49m\u001b[43msend_kwargs\u001b[49m\u001b[43m)\u001b[49m\n\u001b[1;32m    531\u001b[0m \u001b[38;5;28;01mreturn\u001b[39;00m resp\n",
      "File \u001b[0;32m/opt/conda/lib/python3.9/site-packages/requests/sessions.py:645\u001b[0m, in \u001b[0;36mSession.send\u001b[0;34m(self, request, **kwargs)\u001b[0m\n\u001b[1;32m    642\u001b[0m start \u001b[38;5;241m=\u001b[39m preferred_clock()\n\u001b[1;32m    644\u001b[0m \u001b[38;5;66;03m# Send the request\u001b[39;00m\n\u001b[0;32m--> 645\u001b[0m r \u001b[38;5;241m=\u001b[39m \u001b[43madapter\u001b[49m\u001b[38;5;241;43m.\u001b[39;49m\u001b[43msend\u001b[49m\u001b[43m(\u001b[49m\u001b[43mrequest\u001b[49m\u001b[43m,\u001b[49m\u001b[43m \u001b[49m\u001b[38;5;241;43m*\u001b[39;49m\u001b[38;5;241;43m*\u001b[39;49m\u001b[43mkwargs\u001b[49m\u001b[43m)\u001b[49m\n\u001b[1;32m    647\u001b[0m \u001b[38;5;66;03m# Total elapsed time of the request (approximately)\u001b[39;00m\n\u001b[1;32m    648\u001b[0m elapsed \u001b[38;5;241m=\u001b[39m preferred_clock() \u001b[38;5;241m-\u001b[39m start\n",
      "File \u001b[0;32m/opt/conda/lib/python3.9/site-packages/requests/adapters.py:501\u001b[0m, in \u001b[0;36mHTTPAdapter.send\u001b[0;34m(self, request, stream, timeout, verify, cert, proxies)\u001b[0m\n\u001b[1;32m    498\u001b[0m             \u001b[38;5;28;01mraise\u001b[39;00m\n\u001b[1;32m    500\u001b[0m \u001b[38;5;28;01mexcept\u001b[39;00m (ProtocolError, socket\u001b[38;5;241m.\u001b[39merror) \u001b[38;5;28;01mas\u001b[39;00m err:\n\u001b[0;32m--> 501\u001b[0m     \u001b[38;5;28;01mraise\u001b[39;00m \u001b[38;5;167;01mConnectionError\u001b[39;00m(err, request\u001b[38;5;241m=\u001b[39mrequest)\n\u001b[1;32m    503\u001b[0m \u001b[38;5;28;01mexcept\u001b[39;00m MaxRetryError \u001b[38;5;28;01mas\u001b[39;00m e:\n\u001b[1;32m    504\u001b[0m     \u001b[38;5;28;01mif\u001b[39;00m \u001b[38;5;28misinstance\u001b[39m(e\u001b[38;5;241m.\u001b[39mreason, ConnectTimeoutError):\n\u001b[1;32m    505\u001b[0m         \u001b[38;5;66;03m# TODO: Remove this in 3.0.0: see #2811\u001b[39;00m\n",
      "\u001b[0;31mConnectionError\u001b[0m: ('Connection aborted.', ConnectionResetError(104, 'Connection reset by peer'))"
     ]
    }
   ],
   "source": [
    "data_gas_prices_household_consumers = dataframe_by_key( \n",
    "    key    = 'NRG_PC_202_C', \n",
    "    filter = 'A,NRG_SUP,TOT_GJ,EUR,KWH'\n",
    ") "
   ]
  },
  {
   "cell_type": "markdown",
   "id": "5a350de2-4df0-4e1b-8447-9227bc66c5ce",
   "metadata": {},
   "source": [
    "Columnas del dataset:"
   ]
  },
  {
   "cell_type": "code",
   "execution_count": null,
   "id": "ad8f65ca-56fa-43c3-9f4c-2929e2088f98",
   "metadata": {},
   "outputs": [],
   "source": [
    "display( data_gas_prices_household_consumers.dtypes )"
   ]
  },
  {
   "cell_type": "markdown",
   "id": "47339e34-646d-4454-8b89-cf15125dacde",
   "metadata": {},
   "source": [
    "Se muestran los 10 primeros valores:"
   ]
  },
  {
   "cell_type": "code",
   "execution_count": null,
   "id": "220ae3c9-c4bc-41b2-a279-da9784849327",
   "metadata": {},
   "outputs": [],
   "source": [
    "data_gas_prices_household_consumers.head( 10 )"
   ]
  },
  {
   "cell_type": "markdown",
   "id": "5605aac0-eab7-49bb-aef7-b7dbe41e7a4c",
   "metadata": {},
   "source": [
    "Exportación del dataframe en el directorio `subdataset`"
   ]
  },
  {
   "cell_type": "code",
   "execution_count": null,
   "id": "9c4bf7a5-ed7e-4255-b394-c32fea571d5d",
   "metadata": {
    "tags": []
   },
   "outputs": [],
   "source": [
    "export_dataframe( \n",
    "    df = data_gas_prices_household_consumers, \n",
    "    file_name = 'data_gas_prices_household_consumers', \n",
    "    directory = 'subdataset' \n",
    ") "
   ]
  },
  {
   "cell_type": "markdown",
   "id": "1d3f844c-14b1-415a-9244-223d4380ebfd",
   "metadata": {
    "tags": []
   },
   "source": [
    "### _DATASET II_: Precio de Gas no doméstico en € por kw/h\n",
    "\n",
    "Obtenido del origen de datos [Gas prices components for non-household consumers - annual data](https://ec.europa.eu/eurostat/databrowser/view/nrg_pc_203_c/default/table?lang=en)\n",
    "\n",
    "Clave de identificación de los datos: **`NRG_PC_203_C`**\n",
    "\n",
    "Se filtrarán los datos por:\n",
    "\n",
    " - Datos anuales\n",
    " - Componentes del precio de la energia: _\"Energia y suministro \"_\n",
    " - Consumición de la energía: En Giga Julios en todas las bandas\n",
    " - Moneda: Euro (€)\n",
    " - Unidad de medida: kWh"
   ]
  },
  {
   "cell_type": "code",
   "execution_count": null,
   "id": "f26299de-a5c8-423b-a1a4-50051024b856",
   "metadata": {
    "tags": []
   },
   "outputs": [],
   "source": [
    "data_gas_prices_no_household_consumers = dataframe_by_key( \n",
    "    key    = 'NRG_PC_203_C', \n",
    "    filter = 'A,NRG_SUP,TOT_GJ,EUR,KWH'\n",
    ") "
   ]
  },
  {
   "cell_type": "markdown",
   "id": "2e54d790-40a9-4dcc-a27f-79e7a4d9fd86",
   "metadata": {},
   "source": [
    "Columnas del dataset:"
   ]
  },
  {
   "cell_type": "code",
   "execution_count": null,
   "id": "30899333-ecca-46fb-aca4-e80635f19792",
   "metadata": {},
   "outputs": [],
   "source": [
    "display( data_gas_prices_no_household_consumers.dtypes )"
   ]
  },
  {
   "cell_type": "markdown",
   "id": "aaf54e7e-37a1-4605-9822-36edcd0619c3",
   "metadata": {},
   "source": [
    "Se muestran los 10 primeros valores:"
   ]
  },
  {
   "cell_type": "code",
   "execution_count": null,
   "id": "8866b95c-3630-4882-bbb0-670c78068f11",
   "metadata": {
    "tags": []
   },
   "outputs": [],
   "source": [
    "data_gas_prices_no_household_consumers.head( 10 )"
   ]
  },
  {
   "cell_type": "markdown",
   "id": "9843fab2-69c9-47bb-a207-3c0ae19e87d0",
   "metadata": {},
   "source": [
    "Exportación del dataframe en el directorio `subdataset`"
   ]
  },
  {
   "cell_type": "code",
   "execution_count": null,
   "id": "b4341ad3-7a4d-41c0-b67d-757059fd898a",
   "metadata": {},
   "outputs": [],
   "source": [
    "export_dataframe( \n",
    "    df = data_gas_prices_no_household_consumers, \n",
    "    file_name = 'data_gas_prices_no_household_consumers', \n",
    "    directory = 'subdataset' \n",
    ") "
   ]
  },
  {
   "cell_type": "markdown",
   "id": "816fc333-0986-45bf-b116-d78a8799bb67",
   "metadata": {
    "tags": []
   },
   "source": [
    "### _DATASET III_: Precio de la electricidad doméstica para la franja de 2.500 a 4.999 kWh\n",
    "\n",
    "Obtenido del origen de datos [Electricity prices components for household consumers - annual data (from 2007 onwards)](https://ec.europa.eu/eurostat/databrowser/view/NRG_PC_204_C__custom_2388428/default/table?lang=en)\n",
    "\n",
    "Clave de identificación de los datos: **`NRG_PC_204_C__custom_2388428`**\n",
    "\n",
    "Se filtrarán los datos por:\n",
    "\n",
    " - Datos anuales\n",
    " - Consumición de la energía: Consumición entre 2500 kWh y 4999 kWh\n",
    " - Componentes del precio de la energia: _\"Energia y suministro \"_\n",
    " - Moneda: Euro (€)\n",
    " - Unidad de medida: €/kWh"
   ]
  },
  {
   "cell_type": "code",
   "execution_count": null,
   "id": "5d131e20-1cd2-48e6-961e-fc81c84e732f",
   "metadata": {
    "tags": []
   },
   "outputs": [],
   "source": [
    "data_electricity_prices_household_consumers = dataframe_by_key( \n",
    "    key    = 'NRG_PC_204_C__custom_2388428', \n",
    "    filter = 'A,KWH2500-4999,NRG_SUP,EUR', \n",
    "    gziped = True \n",
    ") "
   ]
  },
  {
   "cell_type": "markdown",
   "id": "a00a3802-d878-4f24-8d41-5a7034bc1326",
   "metadata": {},
   "source": [
    "Columnas del dataset:"
   ]
  },
  {
   "cell_type": "code",
   "execution_count": null,
   "id": "bfe6451b-2738-48fb-92c1-106d929ff8ff",
   "metadata": {},
   "outputs": [],
   "source": [
    "display( data_electricity_prices_household_consumers.dtypes )"
   ]
  },
  {
   "cell_type": "markdown",
   "id": "5ad87b51-3aba-46c0-bd1f-2c8235bb7085",
   "metadata": {},
   "source": [
    "Se muestran los 10 primeros valores:"
   ]
  },
  {
   "cell_type": "code",
   "execution_count": null,
   "id": "5b5acd6e-6fea-4ff1-96ee-fdfda02f1544",
   "metadata": {},
   "outputs": [],
   "source": [
    "data_electricity_prices_household_consumers.head(10)"
   ]
  },
  {
   "cell_type": "markdown",
   "id": "749d2f83-0e29-4bac-8c00-dca38a52c93d",
   "metadata": {},
   "source": [
    "Exportación del dataframe en el directorio `subdataset`"
   ]
  },
  {
   "cell_type": "code",
   "execution_count": null,
   "id": "26268a7a-0b89-46b8-b154-c21f33e24769",
   "metadata": {
    "tags": []
   },
   "outputs": [],
   "source": [
    "export_dataframe( \n",
    "    df = data_electricity_prices_household_consumers, \n",
    "    file_name = 'data_electricity_prices_household_consumers', \n",
    "    directory = 'subdataset' \n",
    ") "
   ]
  },
  {
   "cell_type": "markdown",
   "id": "4e123d2f-31b5-450d-a57a-715180972605",
   "metadata": {
    "tags": []
   },
   "source": [
    "### _DATASET IV_: Precio de la electricidad no doméstica\n",
    "\n",
    "Obtenido del origen de datos [Electricity prices components for non-household consumers - annual data (from 2007 onwards)](https://ec.europa.eu/eurostat/databrowser/view/nrg_pc_205_c/default/table?lang=en)\n",
    "\n",
    "Clave de identificación de los datos: **`NRG_PC_205_C`**\n",
    "\n",
    "Se filtrarán los datos por:\n",
    "\n",
    " - Datos anuales\n",
    " - Componentes del precio de la energia: _\"Energia y suministro \"_\n",
    " - Consumición de la energía: Consumición menos de 20 MWh \n",
    " - Moneda: Euro (€)\n",
    " - Unidad de medida: €/kWh"
   ]
  },
  {
   "cell_type": "code",
   "execution_count": null,
   "id": "adffafee-02b1-4a34-9828-f392a24a3bd1",
   "metadata": {
    "tags": []
   },
   "outputs": [],
   "source": [
    "data_electricity_prices_no_household_consumers = dataframe_by_key(\n",
    "    key    = 'NRG_PC_205_C', \n",
    "    filter = 'A,NRG_SUP,MWH_LT20,EUR'\n",
    ") "
   ]
  },
  {
   "cell_type": "markdown",
   "id": "8784320a-4fa6-404f-b954-28f91988646f",
   "metadata": {},
   "source": [
    "Columnas del dataset:"
   ]
  },
  {
   "cell_type": "code",
   "execution_count": null,
   "id": "0a3ff9cb-bbba-4133-9270-60375f69c9b0",
   "metadata": {},
   "outputs": [],
   "source": [
    "display( data_electricity_prices_no_household_consumers.dtypes )"
   ]
  },
  {
   "cell_type": "markdown",
   "id": "3e008031-51a4-4edb-a7fb-3a2c151446f3",
   "metadata": {},
   "source": [
    "Se muestran los 10 primeros valores:"
   ]
  },
  {
   "cell_type": "code",
   "execution_count": null,
   "id": "7cf36e9e-5a00-48fc-8f57-1c39de51ec93",
   "metadata": {},
   "outputs": [],
   "source": [
    "data_electricity_prices_no_household_consumers.head( 10 )"
   ]
  },
  {
   "cell_type": "markdown",
   "id": "c771c78f-84bb-4230-a544-8d2bdc8a86c0",
   "metadata": {},
   "source": [
    "Exportación del dataframe en el directorio `subdataset`"
   ]
  },
  {
   "cell_type": "code",
   "execution_count": null,
   "id": "21f6eedc-fc09-4b7a-8e6d-ce9f9d73e6ea",
   "metadata": {
    "tags": []
   },
   "outputs": [],
   "source": [
    "export_dataframe( \n",
    "    df = data_electricity_prices_no_household_consumers, \n",
    "    file_name = 'data_electricity_prices_no_household_consumers', \n",
    "    directory = 'subdataset' \n",
    ") "
   ]
  },
  {
   "cell_type": "markdown",
   "id": "47076baf-3946-46b2-9663-5ab81011712e",
   "metadata": {},
   "source": [
    "## Análisis inicial y procesamiento de los datos"
   ]
  },
  {
   "cell_type": "markdown",
   "id": "3b976006-4905-455c-9f38-6ff7b9c55e0e",
   "metadata": {},
   "source": [
    "### Funciones de utilidad\n",
    "\n",
    "Estimador utilizando la media **`median_stimator`**. Dentro de una columna del dataframe evalúa aquellos valores nulos y lo sustituye por la media de los valores que no lo son"
   ]
  },
  {
   "cell_type": "code",
   "execution_count": null,
   "id": "61564202-2e97-4559-87dc-b3776ee3543d",
   "metadata": {},
   "outputs": [],
   "source": [
    "def median_stimator( df, column ) :    \n",
    "    median = df.loc[pd.notnull( df[column]), column].median()\n",
    "    df[column].fillna(median,inplace=True)    \n",
    "    return df    \n"
   ]
  },
  {
   "cell_type": "markdown",
   "id": "1b34d482-26da-40f3-898e-fd34837c3a0c",
   "metadata": {},
   "source": [
    "Función **`show_boxplot`** que muestra el diagrama de caja de los valores de un dataframe\n"
   ]
  },
  {
   "cell_type": "code",
   "execution_count": null,
   "id": "94f9a59e-334c-4944-851c-1cd65c6f1735",
   "metadata": {},
   "outputs": [],
   "source": [
    "def show_boxplot( df ):\n",
    "    sns.set_theme( style = \"whitegrid\" )\n",
    "    ax = sns.boxplot( data = df )\n",
    "    "
   ]
  },
  {
   "cell_type": "markdown",
   "id": "af481f15-0e3d-4ef0-8f60-d43c22aac761",
   "metadata": {},
   "source": [
    "Función **`init_outlier`**. Iializa el Outlier de una columna, inicializa a nulo el valor máximo de la columna"
   ]
  },
  {
   "cell_type": "code",
   "execution_count": null,
   "id": "27b65c22-3184-43c1-8bc7-bea5ffe6147a",
   "metadata": {},
   "outputs": [],
   "source": [
    "def init_outlier(df, column): \n",
    "    df.loc[\n",
    "        df[column] == df[column].max(),\n",
    "        column \n",
    "    ] = np.nan\n",
    "    return df\n"
   ]
  },
  {
   "cell_type": "markdown",
   "id": "e94f5987-7ffc-4be6-b40c-e251ceb804a0",
   "metadata": {},
   "source": [
    "### Datos de los costes del gas doméstico\n"
   ]
  },
  {
   "cell_type": "markdown",
   "id": "b1469b45-c1fa-45e5-a20e-1c1e774bb86a",
   "metadata": {},
   "source": [
    "Sustituimos NaN values por su media"
   ]
  },
  {
   "cell_type": "code",
   "execution_count": null,
   "id": "c9aadf9d-c5b4-40a7-aff2-8030838c0f3c",
   "metadata": {},
   "outputs": [],
   "source": [
    "GasPricesHousehold=data_gas_prices_household_consumers\n",
    "\n",
    "GasPricesHousehold = median_stimator( GasPricesHousehold, '2021' )\n",
    "GasPricesHousehold = median_stimator( GasPricesHousehold, '2020' )\n",
    "GasPricesHousehold = median_stimator( GasPricesHousehold, '2019' )\n",
    "GasPricesHousehold = median_stimator( GasPricesHousehold, '2018' )\n",
    "GasPricesHousehold = median_stimator( GasPricesHousehold, '2017' )\n"
   ]
  },
  {
   "cell_type": "markdown",
   "id": "df5201c9-c3c4-4d7d-9010-dc558a68668c",
   "metadata": {},
   "source": [
    "Se muestran los 10 primeros valores:"
   ]
  },
  {
   "cell_type": "code",
   "execution_count": null,
   "id": "4798e382-ec09-489e-9788-10e0a2d75c58",
   "metadata": {},
   "outputs": [],
   "source": [
    "display( GasPricesHousehold.head(10) )"
   ]
  },
  {
   "cell_type": "markdown",
   "id": "57fc1a2a-cf5f-4245-9d48-28f5b269d58e",
   "metadata": {},
   "source": [
    "Diagrama de caja para los diferentes años:"
   ]
  },
  {
   "cell_type": "code",
   "execution_count": null,
   "id": "bd728867-3de1-472b-9de4-5038a1bfa8e2",
   "metadata": {},
   "outputs": [],
   "source": [
    "show_boxplot( GasPricesHousehold )"
   ]
  },
  {
   "cell_type": "markdown",
   "id": "db0e18f9-d961-40a0-8378-53251f4c8fa3",
   "metadata": {},
   "source": [
    "### Datos de los costes del gas para empresas\n"
   ]
  },
  {
   "cell_type": "markdown",
   "id": "57518575-4db0-4fc0-94ce-03f0c2488280",
   "metadata": {},
   "source": [
    "Sustituimos NaN values por su media"
   ]
  },
  {
   "cell_type": "code",
   "execution_count": null,
   "id": "7908bdb9-aa50-4420-93ad-562d05cea4fd",
   "metadata": {},
   "outputs": [],
   "source": [
    "GasPricesNoHousehold = data_gas_prices_no_household_consumers\n",
    "\n",
    "GasPricesNoHousehold = median_stimator( GasPricesNoHousehold, '2021' )\n",
    "GasPricesNoHousehold = median_stimator( GasPricesNoHousehold, '2020' )\n",
    "GasPricesNoHousehold = median_stimator( GasPricesNoHousehold, '2019' )\n",
    "GasPricesNoHousehold = median_stimator( GasPricesNoHousehold, '2018' )\n",
    "GasPricesNoHousehold = median_stimator( GasPricesNoHousehold, '2017' )"
   ]
  },
  {
   "cell_type": "markdown",
   "id": "5ff33e7b-ba3f-4b8e-8d40-47fecd2c10b8",
   "metadata": {},
   "source": [
    "Se muestran los 10 primero valores:"
   ]
  },
  {
   "cell_type": "code",
   "execution_count": null,
   "id": "d2c6338e-caa3-4e5c-89d6-f984d3c792c7",
   "metadata": {},
   "outputs": [],
   "source": [
    "display( GasPricesNoHousehold.head(10) )"
   ]
  },
  {
   "cell_type": "markdown",
   "id": "4896af6c-42b7-404f-aeba-adac41444458",
   "metadata": {},
   "source": [
    "Diagrama de caja para los diferentes años:"
   ]
  },
  {
   "cell_type": "code",
   "execution_count": null,
   "id": "f2119cd0-3928-44e5-aa25-5f12ffb25bba",
   "metadata": {},
   "outputs": [],
   "source": [
    "show_boxplot( GasPricesNoHousehold )"
   ]
  },
  {
   "cell_type": "markdown",
   "id": "87f92e93-eb6b-48f1-a85a-653a6c2ceb17",
   "metadata": {},
   "source": [
    "### Datos de los costes de la electricidad doméstica\n"
   ]
  },
  {
   "cell_type": "markdown",
   "id": "27cb7316-82aa-4020-9e48-010cc9cac468",
   "metadata": {},
   "source": [
    "Se eliminan las columnas correspondientes a los valores semestrales de lo años desde el 2012 al 2016 que no contienen datos"
   ]
  },
  {
   "cell_type": "code",
   "execution_count": null,
   "id": "1ff04625-dda6-409d-a222-a542994dd50f",
   "metadata": {},
   "outputs": [],
   "source": [
    "ElectPricesHouseholds = data_electricity_prices_household_consumers.drop(\n",
    "    [\n",
    "     '2012-S2',\n",
    "     '2013-S2',\n",
    "     '2014-S2',\n",
    "     '2015-S2',\n",
    "     '2016-S2'\n",
    "    ], axis=1\n",
    ")"
   ]
  },
  {
   "cell_type": "markdown",
   "id": "f18a8a06-a167-4c25-9d66-1b79464e975a",
   "metadata": {},
   "source": [
    "Muestra de los 10 primeros valores"
   ]
  },
  {
   "cell_type": "code",
   "execution_count": null,
   "id": "14732394-69d5-4db9-a9ff-1fdf68cd489d",
   "metadata": {},
   "outputs": [],
   "source": [
    "display( ElectPricesHouseholds.head( 10 ) )"
   ]
  },
  {
   "cell_type": "markdown",
   "id": "bc2bb56a-3810-4a93-9ba6-f9b71507bdef",
   "metadata": {},
   "source": [
    "Se muestra el diagrama de caja"
   ]
  },
  {
   "cell_type": "code",
   "execution_count": null,
   "id": "1651de0b-71d8-4d56-9269-8e116b73d383",
   "metadata": {},
   "outputs": [],
   "source": [
    "show_boxplot( ElectPricesHouseholds )"
   ]
  },
  {
   "cell_type": "markdown",
   "id": "15c80287-6296-4dc5-81c8-3daad1df08c4",
   "metadata": {},
   "source": [
    "Detectamos Outlier en el año 2021, inicializamos valor"
   ]
  },
  {
   "cell_type": "code",
   "execution_count": null,
   "id": "967f0052-e0b9-4c72-b2b2-51d5383f1fbb",
   "metadata": {},
   "outputs": [],
   "source": [
    "ElectPricesHouseholds = init_outlier(ElectPricesHouseholds, '2021')"
   ]
  },
  {
   "cell_type": "markdown",
   "id": "2fa504b3-0b86-43b8-b67f-b1dd79c60f84",
   "metadata": {},
   "source": [
    " Estimamos valores nulos por la media"
   ]
  },
  {
   "cell_type": "code",
   "execution_count": null,
   "id": "8fa9c4c3-5b35-4262-af62-89cab6064204",
   "metadata": {},
   "outputs": [],
   "source": [
    "ElectPricesHouseholds = median_stimator( ElectPricesHouseholds, '2021' )\n",
    "ElectPricesHouseholds = median_stimator( ElectPricesHouseholds, '2020' )\n",
    "ElectPricesHouseholds = median_stimator( ElectPricesHouseholds, '2019' )\n",
    "ElectPricesHouseholds = median_stimator( ElectPricesHouseholds, '2018' )\n",
    "ElectPricesHouseholds = median_stimator( ElectPricesHouseholds, '2017' )\n"
   ]
  },
  {
   "cell_type": "markdown",
   "id": "4e335fba-e07b-45aa-a149-1d9daf41e7df",
   "metadata": {},
   "source": [
    "Se vuelve a mostrar el diagrama de caja"
   ]
  },
  {
   "cell_type": "code",
   "execution_count": null,
   "id": "ae00db85-7dc9-43ce-a5b3-35e87c3eb0f7",
   "metadata": {},
   "outputs": [],
   "source": [
    "show_boxplot( ElectPricesHouseholds )"
   ]
  },
  {
   "cell_type": "markdown",
   "id": "185a2061-7c3a-42e2-86b4-1d9a26be40ad",
   "metadata": {},
   "source": [
    "### Datos de los costes de la electricidad para empresas\n"
   ]
  },
  {
   "cell_type": "markdown",
   "id": "8cfaada4-a631-4347-98b7-1d4c6124542a",
   "metadata": {},
   "source": [
    "Se eliminan las columnas correspondientes a los valores semestrales de lo años desde el 2012 al 2016 que no contienen datos"
   ]
  },
  {
   "cell_type": "code",
   "execution_count": null,
   "id": "9d869f12-a54e-4272-9d46-4bb81f1c0225",
   "metadata": {},
   "outputs": [],
   "source": [
    "ElectPricesNoHouseholds = data_electricity_prices_no_household_consumers.drop(\n",
    "    [\n",
    "        '2007-S2',\n",
    "        '2008-S2',\n",
    "        '2009-S2',\n",
    "        '2010-S2',\n",
    "        '2011-S2',\n",
    "        '2012-S2',\n",
    "        '2013-S2',\n",
    "        '2014-S2',\n",
    "        '2015-S2',\n",
    "        '2016-S2'\n",
    "    ], axis=1\n",
    ")"
   ]
  },
  {
   "cell_type": "markdown",
   "id": "d7e857ac-e94e-4b93-bee5-f24cb1ed31f3",
   "metadata": {},
   "source": [
    "Se muestra el diagrama de caja"
   ]
  },
  {
   "cell_type": "code",
   "execution_count": null,
   "id": "4a549354-f9ed-4c79-a763-d91c6b7086f9",
   "metadata": {},
   "outputs": [],
   "source": [
    "show_boxplot( ElectPricesNoHouseholds )"
   ]
  },
  {
   "cell_type": "markdown",
   "id": "00b8eaf5-0313-444a-a375-bd5c18755385",
   "metadata": {},
   "source": [
    "Muestra de los 10 primeros valores"
   ]
  },
  {
   "cell_type": "code",
   "execution_count": null,
   "id": "699d3b69-a0af-42f0-ae47-11d0122578e7",
   "metadata": {},
   "outputs": [],
   "source": [
    "display( ElectPricesNoHouseholds.head( 10 ) )"
   ]
  },
  {
   "cell_type": "markdown",
   "id": "8c871e1c-2769-421e-84b0-3086f2aacb1b",
   "metadata": {},
   "source": [
    "Detectamos Outlier en los valores del 2021 y lo inicializamos "
   ]
  },
  {
   "cell_type": "code",
   "execution_count": null,
   "id": "15cca0b1-5544-42e2-be94-becefd3d966e",
   "metadata": {},
   "outputs": [],
   "source": [
    "ElectPricesHouseholds = init_outlier(ElectPricesNoHouseholds, '2021')"
   ]
  },
  {
   "cell_type": "markdown",
   "id": "9c9b09ee-b1f6-48ad-9674-42335293e4b9",
   "metadata": {},
   "source": [
    "Se evaluan con el estimador de la media los valores nulos"
   ]
  },
  {
   "cell_type": "code",
   "execution_count": null,
   "id": "76208d3a-c00a-42ab-8482-0bcb483a5ce9",
   "metadata": {},
   "outputs": [],
   "source": [
    "ElectPricesNoHouseholds = median_stimator( ElectPricesNoHouseholds, '2021' )\n",
    "ElectPricesNoHouseholds = median_stimator( ElectPricesNoHouseholds, '2020' )\n",
    "ElectPricesNoHouseholds = median_stimator( ElectPricesNoHouseholds, '2019' )\n",
    "ElectPricesNoHouseholds = median_stimator( ElectPricesNoHouseholds, '2018' )\n",
    "ElectPricesNoHouseholds = median_stimator( ElectPricesNoHouseholds, '2017' )\n"
   ]
  },
  {
   "cell_type": "markdown",
   "id": "83c331e9-dcba-45cd-8bf4-0271380e1de1",
   "metadata": {},
   "source": [
    "Se vuelve a mostrar el diagrama de caja"
   ]
  },
  {
   "cell_type": "code",
   "execution_count": null,
   "id": "57b8ba7d-d898-40b2-8d98-f0127059140c",
   "metadata": {},
   "outputs": [],
   "source": [
    "show_boxplot( ElectPricesNoHouseholds )"
   ]
  },
  {
   "cell_type": "markdown",
   "id": "8a753b1c-69a0-461e-85c3-9342bafd5b5b",
   "metadata": {},
   "source": [
    "### _Conclusión de análisis inicial de datos:_\n",
    "\n",
    "Descartamos continuar el análisis del \"Gas\" en el caso de los precios de los consumos de las empresas, ya que los datos obtenidos son una muestra demasiado pequeña, en concreto en los años 2017 y 2018 (ver dataset [data_gas_prices_no_household_consumers.csv](subdataset/data_gas_prices_no_household_consumers.csv))."
   ]
  },
  {
   "cell_type": "markdown",
   "id": "88c7dfbe-0464-4ebc-b20a-7eb23c59daac",
   "metadata": {
    "tags": []
   },
   "source": [
    "# Generación del dataset Final de trabajo"
   ]
  },
  {
   "cell_type": "markdown",
   "id": "e0ecb1a2-9a36-429a-b6f0-69bfc001e1e4",
   "metadata": {},
   "source": [
    "Generamos El Dataset final a exportar, con los datos posibles "
   ]
  },
  {
   "cell_type": "code",
   "execution_count": null,
   "id": "47ac9f1e-077c-4596-8d87-2338760cac13",
   "metadata": {},
   "outputs": [],
   "source": [
    "dElectCol = pd.merge(\n",
    "    ElectPricesHouseholds.drop(['country_name'], axis=1), \n",
    "    ElectPricesNoHouseholds.drop(['country_name'], axis=1), \n",
    "    on='country',\n",
    "    suffixes=('_ElectHouse', '_ElectNoHouse')\n",
    ")\n",
    "\n",
    "dGasCol = pd.merge(\n",
    "    GasPricesHousehold.drop(['country_name'], axis=1), \n",
    "    GasPricesNoHousehold.drop(['country_name'], axis=1), \n",
    "    on='country',\n",
    "    suffixes=('_GasHouse', '_GasNoHouse')\n",
    ")\n",
    "\n",
    "dEnergyCol = pd.merge(\n",
    "    dElectCol, \n",
    "    dGasCol, \n",
    "    on='country'\n",
    ")\n",
    "\n"
   ]
  },
  {
   "cell_type": "markdown",
   "id": "a056f117-8d88-48c9-91a6-57040c9e1aca",
   "metadata": {},
   "source": [
    "Mostramos el dataset final a publicar, que no será el mismo que utilizemos para analizar"
   ]
  },
  {
   "cell_type": "code",
   "execution_count": null,
   "id": "33d248e6-b8d7-4eec-8cd9-4d8fff44825c",
   "metadata": {},
   "outputs": [],
   "source": [
    "dEnergyCol"
   ]
  },
  {
   "cell_type": "markdown",
   "id": "986cb579-fc97-48d3-abfc-b75a12cf7f1f",
   "metadata": {},
   "source": [
    "Construimos un Dataset Final para proceder a analizar con los precio de Gas y Electricidad desde 2017 hasta 2021."
   ]
  },
  {
   "cell_type": "code",
   "execution_count": null,
   "id": "25122476-34b8-4c01-b2e0-460eea40af9f",
   "metadata": {},
   "outputs": [],
   "source": [
    "dEnergyHouseCol = pd.merge(\n",
    "    ElectPricesHouseholds.drop(['country_name'], axis=1), \n",
    "    GasPricesHousehold.drop(['country_name'], axis=1), \n",
    "    on='country',\n",
    "    suffixes=('_ElectHouse', '_GasHouse')\n",
    ")\n"
   ]
  },
  {
   "cell_type": "markdown",
   "id": "ad87d96b-62fe-4ab8-a83c-8ea3449bcd2c",
   "metadata": {},
   "source": [
    "Se añade la columna del nombre del país"
   ]
  },
  {
   "cell_type": "code",
   "execution_count": null,
   "id": "ff3b5f87-423c-4f9a-9505-ef9364bb293c",
   "metadata": {},
   "outputs": [],
   "source": [
    "dEnergyHouseCol= column_country_name( dEnergyHouseCol )\n",
    "dEnergyCol= column_country_name( dEnergyCol )"
   ]
  },
  {
   "cell_type": "markdown",
   "id": "7bf180c1-17ad-486c-8826-7fe8b7b544ec",
   "metadata": {},
   "source": [
    "Columnas del dataset a Publicar:"
   ]
  },
  {
   "cell_type": "code",
   "execution_count": null,
   "id": "1a389d75-807d-4754-8b14-22899fbc7026",
   "metadata": {},
   "outputs": [],
   "source": [
    "display( dEnergyCol.dtypes )"
   ]
  },
  {
   "cell_type": "markdown",
   "id": "9413d524-9165-48f3-90c1-6bbd72c061cc",
   "metadata": {},
   "source": [
    "Columnas del dataset a Analizar:"
   ]
  },
  {
   "cell_type": "code",
   "execution_count": null,
   "id": "e6ff838b-33ad-4b6f-bf3b-5bc28ae07c85",
   "metadata": {},
   "outputs": [],
   "source": [
    "display( dEnergyHouseCol.dtypes )"
   ]
  },
  {
   "cell_type": "markdown",
   "id": "22e02ba1-e8f3-44cb-a02c-aa9faab5e822",
   "metadata": {},
   "source": [
    "## Exportación dataset Final en formato CSV"
   ]
  },
  {
   "cell_type": "code",
   "execution_count": null,
   "id": "b50edf1d-0e4f-4268-af59-9dd2f80beab1",
   "metadata": {},
   "outputs": [],
   "source": [
    "export_dataframe( \n",
    "    df = dEnergyCol, \n",
    "    file_name = 'energy_price_dataset', \n",
    "    directory = 'dataset' \n",
    ") "
   ]
  },
  {
   "cell_type": "markdown",
   "id": "d7371aa1-22af-4551-ae2d-431f088695fc",
   "metadata": {},
   "source": [
    "## Reportes"
   ]
  },
  {
   "cell_type": "markdown",
   "id": "9da2fda4-63eb-4e96-9e0c-7fc156f50379",
   "metadata": {},
   "source": [
    "### Preparación y generación de datasets para Analizar"
   ]
  },
  {
   "cell_type": "markdown",
   "id": "15e235c2-07c6-417f-b081-ead0458cd8b0",
   "metadata": {},
   "source": [
    "##### Eliminamos el valor \"EU27_2020\""
   ]
  },
  {
   "cell_type": "code",
   "execution_count": null,
   "id": "2e9e235c-da16-40c9-8f88-dd5b6e3c3814",
   "metadata": {},
   "outputs": [],
   "source": [
    "dEnergyHouseTemp = dEnergyHouseCol.loc[(dEnergyHouseCol[\"country\"] != \"EU27_2020\")]"
   ]
  },
  {
   "cell_type": "markdown",
   "id": "8309b45e-948b-45a6-95cf-fb6475a9664c",
   "metadata": {},
   "source": [
    "##### Trasponemos y recreamos el dataset para prepararlo para una nueva presentación multivariable"
   ]
  },
  {
   "cell_type": "code",
   "execution_count": null,
   "id": "105cce66-9ed2-4c61-9983-d81bdbb3f431",
   "metadata": {},
   "outputs": [],
   "source": [
    "dEnergyHouseDummy_2017=  dEnergyHouseTemp.loc[:,['country', '2017_ElectHouse']]\n",
    "dEnergyHouseDummy_2017['Year']=2017\n",
    "dEnergyHouseDummy_2017['Type']='Electricity'\n",
    "dEnergyHouseDummy_2018=  dEnergyHouseTemp.loc[:,['country', '2018_ElectHouse']]\n",
    "dEnergyHouseDummy_2018['Year']=2018\n",
    "dEnergyHouseDummy_2018['Type']='Electricity'\n",
    "dEnergyHouseDummy_2019=  dEnergyHouseTemp.loc[:,['country', '2019_ElectHouse']]\n",
    "dEnergyHouseDummy_2019['Year']=2019\n",
    "dEnergyHouseDummy_2019['Type']='Electricity'\n",
    "dEnergyHouseDummy_2020=  dEnergyHouseTemp.loc[:,['country', '2020_ElectHouse']]\n",
    "dEnergyHouseDummy_2020['Year']=2020\n",
    "dEnergyHouseDummy_2020['Type']='Electricity'\n",
    "dEnergyHouseDummy_2021= dEnergyHouseTemp.loc[:,['country', '2021_ElectHouse']]\n",
    "dEnergyHouseDummy_2021['Year']=2021\n",
    "dEnergyHouseDummy_2021['Type']='Electricity'\n",
    "\n",
    "dGasHouseDummy_2017=  dEnergyHouseTemp.loc[:,['country', '2017_GasHouse']]\n",
    "dGasHouseDummy_2017['Year']=2017\n",
    "dGasHouseDummy_2017['Type']='Gas'\n",
    "dGasHouseDummy_2018=  dEnergyHouseTemp.loc[:,['country', '2018_GasHouse']]\n",
    "dGasHouseDummy_2018['Year']=2018\n",
    "dGasHouseDummy_2018['Type']='Gas'\n",
    "dGasHouseDummy_2019=  dEnergyHouseTemp.loc[:,['country', '2019_GasHouse']]\n",
    "dGasHouseDummy_2019['Year']=2019\n",
    "dGasHouseDummy_2019['Type']='Gas'\n",
    "dGasHouseDummy_2020=  dEnergyHouseTemp.loc[:,['country', '2020_GasHouse']]\n",
    "dGasHouseDummy_2020['Year']=2020\n",
    "dGasHouseDummy_2020['Type']='Gas'\n",
    "dGasHouseDummy_2021= dEnergyHouseTemp.loc[:,['country', '2021_GasHouse']]\n",
    "dGasHouseDummy_2021['Year']=2021\n",
    "dGasHouseDummy_2021['Type']='Gas'\n"
   ]
  },
  {
   "cell_type": "code",
   "execution_count": null,
   "id": "3ff9122a-68d2-4483-a28d-8eea70d61600",
   "metadata": {
    "tags": []
   },
   "outputs": [],
   "source": [
    "dEnergyHouseDummy_2017=dEnergyHouseDummy_2017.rename(columns={\"2017_ElectHouse\": \"Price\"})\n",
    "dEnergyHouseDummy_2018=dEnergyHouseDummy_2018.rename(columns={\"2018_ElectHouse\": \"Price\"})\n",
    "dEnergyHouseDummy_2019=dEnergyHouseDummy_2019.rename(columns={\"2019_ElectHouse\": \"Price\"})\n",
    "dEnergyHouseDummy_2020=dEnergyHouseDummy_2020.rename(columns={\"2020_ElectHouse\": \"Price\"})\n",
    "dEnergyHouseDummy_2021=dEnergyHouseDummy_2021.rename(columns={\"2021_ElectHouse\": \"Price\"})\n",
    "dGasHouseDummy_2017=dGasHouseDummy_2017.rename(columns={\"2017_GasHouse\": \"Price\"})\n",
    "dGasHouseDummy_2018=dGasHouseDummy_2018.rename(columns={\"2018_GasHouse\": \"Price\"})\n",
    "dGasHouseDummy_2019=dGasHouseDummy_2019.rename(columns={\"2019_GasHouse\": \"Price\"})\n",
    "dGasHouseDummy_2020=dGasHouseDummy_2020.rename(columns={\"2020_GasHouse\": \"Price\"})\n",
    "dGasHouseDummy_2021=dGasHouseDummy_2021.rename(columns={\"2021_GasHouse\": \"Price\"})\n",
    "\n",
    "\n",
    "dEnergyHouse = pd.concat(\n",
    "        [\n",
    "            dEnergyHouseDummy_2017,\n",
    "            dEnergyHouseDummy_2018,\n",
    "            dEnergyHouseDummy_2019,\n",
    "            dEnergyHouseDummy_2020,\n",
    "            dEnergyHouseDummy_2021,\n",
    "            dGasHouseDummy_2017,\n",
    "            dGasHouseDummy_2018,\n",
    "            dGasHouseDummy_2019,\n",
    "            dGasHouseDummy_2020,\n",
    "            dGasHouseDummy_2021\n",
    "        ]\n",
    "\n",
    "    )\n",
    "\n",
    "display(dEnergyHouse)"
   ]
  },
  {
   "cell_type": "markdown",
   "id": "e210dd38-e777-4761-98ab-4981b9f55e2f",
   "metadata": {},
   "source": [
    "### Análisis Visual de la información"
   ]
  },
  {
   "cell_type": "markdown",
   "id": "4e485c42-dc5b-460d-802a-0aed9bf07c93",
   "metadata": {},
   "source": [
    "#### Total de Coste de Tipo de Energía por paises en los 4 últimos años"
   ]
  },
  {
   "cell_type": "code",
   "execution_count": null,
   "id": "d6bcf552-6a4b-4544-9a00-5bc14ef15db8",
   "metadata": {},
   "outputs": [],
   "source": [
    "sns.set(rc = {'figure.figsize':(15,8)})\n",
    "sns.barplot(x='country', y='Price', hue='Type', data=dEnergyHouse, saturation=0.8)\n"
   ]
  },
  {
   "cell_type": "markdown",
   "id": "9b0d8349-b79e-4d39-85fa-4bb50ab3d841",
   "metadata": {},
   "source": [
    "#### Conclusiones de Análisis Visual"
   ]
  },
  {
   "cell_type": "markdown",
   "id": "0f86aec2-ff2d-4e08-b32e-058d488c3dad",
   "metadata": {},
   "source": [
    "Teniendo en cuenta la información contenida en el siguiente Link del Banco Mundial, donde podemos obtner el PIB de cualquier país"
   ]
  },
  {
   "cell_type": "code",
   "execution_count": null,
   "id": "fd1c2456-22a2-4cd4-bfd2-6bf558efb6f7",
   "metadata": {
    "tags": []
   },
   "outputs": [],
   "source": [
    "IFrame(src=\"https://datos.bancomundial.org/share/widget?indicators=NY.GDP.PCAP.CD&view=map\", width='450', height='300', frameBorder='0', scrolling=\"no\")"
   ]
  },
  {
   "cell_type": "markdown",
   "id": "25773da5-7d22-4065-9a27-7a1f4c012aa3",
   "metadata": {},
   "source": [
    "https://datos.bancomundial.org/share/widget?indicators=NY.GDP.PCAP.CD&view=map"
   ]
  },
  {
   "cell_type": "markdown",
   "id": "68c1ba82-e89b-43bf-84a5-1734ec08c3d0",
   "metadata": {},
   "source": [
    "Obtenemos conclusiones como que por Ejemplo, España siendo uno de los paises con peor PIB de Europa, tiene uno de los costes acumulados históricos de los últimos 4 años más altos de Europa. \n",
    "O que Países con PIB más alto de la Comunidad Europea como Alemania (GE) o Austria (AT) tienen de los precios más bajos del continente Europes.\n",
    "Así mismo se observa una varianza reseñable en los precios de la Electricidad por cada país, que no se observa de una forma equivalente en el Gas."
   ]
  },
  {
   "cell_type": "markdown",
   "id": "e1450af8-4233-437c-9bbc-1661a99515bf",
   "metadata": {},
   "source": [
    "#### Detalle histórico de los 4 últimos años de coste por tipo de Energía y país"
   ]
  },
  {
   "cell_type": "code",
   "execution_count": null,
   "id": "bb6687bc-500d-4a5f-9032-1379681ec45a",
   "metadata": {},
   "outputs": [],
   "source": [
    "dEnergyHouseElect=dEnergyHouse[(dEnergyHouse['Type'] == 'Electricidad') ]\n",
    "dEnergyHouseGas=dEnergyHouse[(dEnergyHouse['Type'] == 'Gas') ]\n",
    "\n",
    "\n",
    "sns.set(font_scale = 1.60)\n",
    "g=sns.relplot(data=dEnergyHouse, x='country', y='Price', size='Type', hue=\"Year\")\n",
    "g.fig.set_size_inches(45,15)"
   ]
  },
  {
   "cell_type": "markdown",
   "id": "8aa40d89-e1b0-490c-9637-e73068a47711",
   "metadata": {
    "tags": []
   },
   "source": [
    "#### Conclusiones de Análisis Visual"
   ]
  },
  {
   "cell_type": "markdown",
   "id": "c17b96f2-cc48-41fe-9e7c-3c126dfa09c4",
   "metadata": {},
   "source": [
    "Alemania mantiene constante practicamente su coste de Gas igual en los últimos 4 años, España marca máximo histórico en Gas y su segundo máximo en Electricidad, teniendo una varianza reseñable anual en los precios. Reino Unido tiene el precio más bajo en Electricidad y Gas de los últimos 4 años."
   ]
  }
 ],
 "metadata": {
  "kernelspec": {
   "display_name": "Python 3 (ipykernel)",
   "language": "python",
   "name": "python3"
  },
  "language_info": {
   "codemirror_mode": {
    "name": "ipython",
    "version": 3
   },
   "file_extension": ".py",
   "mimetype": "text/x-python",
   "name": "python",
   "nbconvert_exporter": "python",
   "pygments_lexer": "ipython3",
   "version": "3.9.10"
  }
 },
 "nbformat": 4,
 "nbformat_minor": 5
}
